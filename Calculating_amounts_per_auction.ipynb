{
 "cells": [
  {
   "cell_type": "code",
   "execution_count": 1,
   "metadata": {},
   "outputs": [],
   "source": [
    "import mysql.connector  as connection\n",
    "import pandas as pd\n",
    "import datetime as dt\n",
    "import os"
   ]
  },
  {
   "cell_type": "code",
   "execution_count": 2,
   "metadata": {},
   "outputs": [],
   "source": [
    "file_dir = 'C:/Users/User/Desktop/Moje dokumenty/Raporty obce/Kacper/63_issue_158946_payments/Excel/2022/'\n",
    "db_credentials_dir = 'C:/Users/User/Desktop/Moje dokumenty/Raporty obce/Kacper/63_issue_158946_payments/'"
   ]
  },
  {
   "cell_type": "code",
   "execution_count": 3,
   "metadata": {},
   "outputs": [
    {
     "name": "stderr",
     "output_type": "stream",
     "text": [
      "C:\\Users\\User\\AppData\\Local\\Temp\\ipykernel_2112\\1484331314.py:1: DtypeWarning: Columns (4) have mixed types. Specify dtype option on import or set low_memory=False.\n",
      "  all_books_22 = pd.read_csv(file_dir + 'all_books_22.csv')\n"
     ]
    }
   ],
   "source": [
    "all_books_22 = pd.read_csv(file_dir + 'all_books_22.csv')"
   ]
  },
  {
   "cell_type": "code",
   "execution_count": 4,
   "metadata": {},
   "outputs": [
    {
     "name": "stderr",
     "output_type": "stream",
     "text": [
      "C:\\Users\\User\\AppData\\Local\\Temp\\ipykernel_2112\\3746988900.py:1: DtypeWarning: Columns (2,14) have mixed types. Specify dtype option on import or set low_memory=False.\n",
      "  FACT_all_transactions = pd.read_csv(file_dir + 'FACT_all_transactions.csv')\n"
     ]
    }
   ],
   "source": [
    "FACT_all_transactions = pd.read_csv(file_dir + 'FACT_all_transactions.csv')"
   ]
  },
  {
   "cell_type": "code",
   "execution_count": 5,
   "metadata": {},
   "outputs": [],
   "source": [
    "FACT_all_transactions['Transaction_Date'] = pd.to_datetime(FACT_all_transactions['Transaction_Date'])"
   ]
  },
  {
   "cell_type": "code",
   "execution_count": 6,
   "metadata": {},
   "outputs": [],
   "source": [
    "FACT_all_transactions['Selling_account'] = FACT_all_transactions['Selling_account'].astype(str)\n",
    "FACT_all_transactions['Selling_account'] = FACT_all_transactions['Selling_account'].astype(str).replace(r'\\.0', '', regex=True)"
   ]
  },
  {
   "cell_type": "code",
   "execution_count": 7,
   "metadata": {},
   "outputs": [],
   "source": [
    "FACT_all_transactions_2022= FACT_all_transactions[(FACT_all_transactions['Transaction_Date'] >= pd.Timestamp('2022-01-01')) & (FACT_all_transactions['Transaction_Date'] < pd.Timestamp('2023-01-01')) ]"
   ]
  },
  {
   "cell_type": "code",
   "execution_count": 8,
   "metadata": {},
   "outputs": [],
   "source": [
    "DIM_all_auction = pd.read_csv(file_dir + 'DIM_all_auction.csv')"
   ]
  },
  {
   "cell_type": "code",
   "execution_count": 10,
   "metadata": {},
   "outputs": [
    {
     "name": "stderr",
     "output_type": "stream",
     "text": [
      "C:\\Users\\User\\AppData\\Local\\Temp\\ipykernel_2112\\145284229.py:1: SettingWithCopyWarning: \n",
      "A value is trying to be set on a copy of a slice from a DataFrame.\n",
      "Try using .loc[row_indexer,col_indexer] = value instead\n",
      "\n",
      "See the caveats in the documentation: https://pandas.pydata.org/pandas-docs/stable/user_guide/indexing.html#returning-a-view-versus-a-copy\n",
      "  FACT_all_transactions_2022[['auction_number', 'txnid']] = FACT_all_transactions_2022['Main auction'].str.split('_', expand=True)\n",
      "C:\\Users\\User\\AppData\\Local\\Temp\\ipykernel_2112\\145284229.py:1: SettingWithCopyWarning: \n",
      "A value is trying to be set on a copy of a slice from a DataFrame.\n",
      "Try using .loc[row_indexer,col_indexer] = value instead\n",
      "\n",
      "See the caveats in the documentation: https://pandas.pydata.org/pandas-docs/stable/user_guide/indexing.html#returning-a-view-versus-a-copy\n",
      "  FACT_all_transactions_2022[['auction_number', 'txnid']] = FACT_all_transactions_2022['Main auction'].str.split('_', expand=True)\n"
     ]
    }
   ],
   "source": [
    "FACT_all_transactions_2022[['auction_number', 'txnid']] = FACT_all_transactions_2022['Main auction'].str.split('_', expand=True)"
   ]
  },
  {
   "cell_type": "code",
   "execution_count": 14,
   "metadata": {},
   "outputs": [],
   "source": [
    "DIM_all_auction[['auction_number', 'txnid']] = DIM_all_auction['MAU_Main auction'].str.split('_', expand=True)"
   ]
  },
  {
   "cell_type": "code",
   "execution_count": 15,
   "metadata": {},
   "outputs": [],
   "source": [
    "DIM_Company = DIM_all_auction[['auction_number', 'Company', 'Seller','Currency']]"
   ]
  },
  {
   "cell_type": "code",
   "execution_count": 16,
   "metadata": {},
   "outputs": [
    {
     "name": "stderr",
     "output_type": "stream",
     "text": [
      "C:\\Users\\User\\AppData\\Local\\Temp\\ipykernel_2112\\1269495965.py:1: SettingWithCopyWarning: \n",
      "A value is trying to be set on a copy of a slice from a DataFrame\n",
      "\n",
      "See the caveats in the documentation: https://pandas.pydata.org/pandas-docs/stable/user_guide/indexing.html#returning-a-view-versus-a-copy\n",
      "  DIM_Company.drop_duplicates(subset='auction_number', inplace=True)\n"
     ]
    }
   ],
   "source": [
    "DIM_Company.drop_duplicates(subset='auction_number', inplace=True)"
   ]
  },
  {
   "cell_type": "code",
   "execution_count": 17,
   "metadata": {},
   "outputs": [
    {
     "name": "stderr",
     "output_type": "stream",
     "text": [
      "C:\\Users\\User\\AppData\\Local\\Temp\\ipykernel_2112\\2913898193.py:1: SettingWithCopyWarning: \n",
      "A value is trying to be set on a copy of a slice from a DataFrame.\n",
      "Try using .loc[row_indexer,col_indexer] = value instead\n",
      "\n",
      "See the caveats in the documentation: https://pandas.pydata.org/pandas-docs/stable/user_guide/indexing.html#returning-a-view-versus-a-copy\n",
      "  DIM_Company['auction_number'] = DIM_Company['auction_number'].astype(str)\n",
      "C:\\Users\\User\\AppData\\Local\\Temp\\ipykernel_2112\\2913898193.py:2: SettingWithCopyWarning: \n",
      "A value is trying to be set on a copy of a slice from a DataFrame.\n",
      "Try using .loc[row_indexer,col_indexer] = value instead\n",
      "\n",
      "See the caveats in the documentation: https://pandas.pydata.org/pandas-docs/stable/user_guide/indexing.html#returning-a-view-versus-a-copy\n",
      "  DIM_Company['auction_number'] = DIM_Company['auction_number'].astype(str).replace(r'\\.0', '', regex=True)\n",
      "C:\\Users\\User\\AppData\\Local\\Temp\\ipykernel_2112\\2913898193.py:3: SettingWithCopyWarning: \n",
      "A value is trying to be set on a copy of a slice from a DataFrame.\n",
      "Try using .loc[row_indexer,col_indexer] = value instead\n",
      "\n",
      "See the caveats in the documentation: https://pandas.pydata.org/pandas-docs/stable/user_guide/indexing.html#returning-a-view-versus-a-copy\n",
      "  DIM_Company['auction_number'] = DIM_Company['auction_number'].str.strip()\n",
      "C:\\Users\\User\\AppData\\Local\\Temp\\ipykernel_2112\\2913898193.py:5: SettingWithCopyWarning: \n",
      "A value is trying to be set on a copy of a slice from a DataFrame.\n",
      "Try using .loc[row_indexer,col_indexer] = value instead\n",
      "\n",
      "See the caveats in the documentation: https://pandas.pydata.org/pandas-docs/stable/user_guide/indexing.html#returning-a-view-versus-a-copy\n",
      "  FACT_all_transactions_2022['auction_number'] = FACT_all_transactions_2022['auction_number'].astype(str)\n",
      "C:\\Users\\User\\AppData\\Local\\Temp\\ipykernel_2112\\2913898193.py:6: SettingWithCopyWarning: \n",
      "A value is trying to be set on a copy of a slice from a DataFrame.\n",
      "Try using .loc[row_indexer,col_indexer] = value instead\n",
      "\n",
      "See the caveats in the documentation: https://pandas.pydata.org/pandas-docs/stable/user_guide/indexing.html#returning-a-view-versus-a-copy\n",
      "  FACT_all_transactions_2022['auction_number'] = FACT_all_transactions_2022['auction_number'].astype(str).replace(r'\\.0', '', regex=True)\n",
      "C:\\Users\\User\\AppData\\Local\\Temp\\ipykernel_2112\\2913898193.py:7: SettingWithCopyWarning: \n",
      "A value is trying to be set on a copy of a slice from a DataFrame.\n",
      "Try using .loc[row_indexer,col_indexer] = value instead\n",
      "\n",
      "See the caveats in the documentation: https://pandas.pydata.org/pandas-docs/stable/user_guide/indexing.html#returning-a-view-versus-a-copy\n",
      "  FACT_all_transactions_2022['auction_number'] = FACT_all_transactions_2022['auction_number'].str.strip()\n"
     ]
    }
   ],
   "source": [
    "DIM_Company['auction_number'] = DIM_Company['auction_number'].astype(str)\n",
    "DIM_Company['auction_number'] = DIM_Company['auction_number'].astype(str).replace(r'\\.0', '', regex=True)\n",
    "DIM_Company['auction_number'] = DIM_Company['auction_number'].str.strip()\n",
    "\n",
    "FACT_all_transactions_2022['auction_number'] = FACT_all_transactions_2022['auction_number'].astype(str)\n",
    "FACT_all_transactions_2022['auction_number'] = FACT_all_transactions_2022['auction_number'].astype(str).replace(r'\\.0', '', regex=True)\n",
    "FACT_all_transactions_2022['auction_number'] = FACT_all_transactions_2022['auction_number'].str.strip()"
   ]
  },
  {
   "cell_type": "code",
   "execution_count": 18,
   "metadata": {},
   "outputs": [],
   "source": [
    "transactions_2022_company = pd.merge(FACT_all_transactions_2022, DIM_Company, on='auction_number', how='left')"
   ]
  },
  {
   "cell_type": "code",
   "execution_count": 26,
   "metadata": {},
   "outputs": [],
   "source": [
    "transactions_2022_company_exp = transactions_2022_company[transactions_2022_company['Transaction_exported'] > 0]"
   ]
  },
  {
   "cell_type": "code",
   "execution_count": 28,
   "metadata": {},
   "outputs": [],
   "source": [
    "aggregation = {\n",
    "    'Amount_Netto(local)': 'sum',\n",
    "    'Currency': 'first',\n",
    "    'Selling_account' : 'first',\n",
    "    'Company' : 'first',\n",
    "    'Seller' : 'first'\n",
    "}"
   ]
  },
  {
   "cell_type": "code",
   "execution_count": 41,
   "metadata": {},
   "outputs": [],
   "source": [
    "auctions_sum = transactions_2022_company_exp.groupby(\"auction_number\").agg(aggregation).reset_index()\n"
   ]
  },
  {
   "cell_type": "code",
   "execution_count": 46,
   "metadata": {},
   "outputs": [],
   "source": [
    "all_books_22['auction_number'] = all_books_22['auction_number'].astype(str)\n",
    "all_books_22['auction_number'] = all_books_22['auction_number'].astype(str).replace(r'\\.0', '', regex=True)\n",
    "all_books_22['auction_number'] = all_books_22['auction_number'].str.strip()"
   ]
  },
  {
   "cell_type": "code",
   "execution_count": 51,
   "metadata": {},
   "outputs": [],
   "source": [
    "aggregation_books = {\n",
    "    'Amount_Netto(local)': 'sum',\n",
    "    'Text': 'first',\n",
    "    'Source.Name' : 'first',\n",
    "    'type_split' : 'first',\n",
    "}"
   ]
  },
  {
   "cell_type": "code",
   "execution_count": 52,
   "metadata": {},
   "outputs": [],
   "source": [
    "books_sum = all_books_22.groupby(\"auction_number\").agg(aggregation_books).reset_index()\n"
   ]
  },
  {
   "cell_type": "code",
   "execution_count": 62,
   "metadata": {},
   "outputs": [],
   "source": [
    "books_sum.to_csv(file_dir + 'Accounts_Power_BI/books_sum.csv', index=False)\n",
    "auctions_sum.to_csv(file_dir + 'Accounts_Power_BI/auctions_sum.csv', index=False)"
   ]
  }
 ],
 "metadata": {
  "kernelspec": {
   "display_name": "Python 3",
   "language": "python",
   "name": "python3"
  },
  "language_info": {
   "codemirror_mode": {
    "name": "ipython",
    "version": 3
   },
   "file_extension": ".py",
   "mimetype": "text/x-python",
   "name": "python",
   "nbconvert_exporter": "python",
   "pygments_lexer": "ipython3",
   "version": "3.10.11"
  },
  "orig_nbformat": 4
 },
 "nbformat": 4,
 "nbformat_minor": 2
}
