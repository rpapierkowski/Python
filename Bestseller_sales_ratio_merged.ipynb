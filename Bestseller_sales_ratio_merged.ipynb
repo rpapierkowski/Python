{
 "cells": [
  {
   "cell_type": "code",
   "execution_count": 3,
   "metadata": {},
   "outputs": [],
   "source": [
    "import mysql.connector  as connection\n",
    "import pandas as pd\n",
    "import numpy as np"
   ]
  },
  {
   "cell_type": "code",
   "execution_count": 4,
   "metadata": {},
   "outputs": [],
   "source": [
    "# Creation of directory variables\n",
    "\n",
    "files_dir = 'G:/Reports/043_Bestseller/Files/'\n",
    "sql_dir = 'G:/Reports/043_Bestseller/SQL/'"
   ]
  },
  {
   "cell_type": "code",
   "execution_count": 5,
   "metadata": {},
   "outputs": [
    {
     "name": "stdout",
     "output_type": "stream",
     "text": [
      "loading sales_ratio ...\n"
     ]
    },
    {
     "name": "stderr",
     "output_type": "stream",
     "text": [
      "C:\\Users\\rdpadmin\\AppData\\Local\\Temp\\ipykernel_11692\\2546774400.py:17: UserWarning: pandas only supports SQLAlchemy connectable (engine/connection) or database string URI or sqlite3 DBAPI2 connection. Other DBAPI2 objects are not tested. Please consider using SQLAlchemy.\n",
      "  sales_ratio = pd.read_sql(sales_ratio_NEW_query,db_connections)\n"
     ]
    },
    {
     "name": "stdout",
     "output_type": "stream",
     "text": [
      "sales_ratio is ready\n",
      "MySQL query is loaded and db_connections is closed \n"
     ]
    }
   ],
   "source": [
    "# Fetching data from the database\n",
    "\n",
    "with open(files_dir + 'db_credentials.txt', 'r') as f:\n",
    "    db_credentials = f.read().splitlines()\n",
    "\n",
    "try:\n",
    "    db_connections = connection.connect(\n",
    "        host=db_credentials[0],\n",
    "        user=db_credentials[1],\n",
    "        password=db_credentials[2],\n",
    "        database=db_credentials[3]\n",
    "    )\n",
    "        # loading sales_ratio\n",
    "    print(\"loading sales_ratio ...\")\n",
    "    sales_ratio_NEW = open(sql_dir + '06_sales ratio/sales ratio NEW.sql')\n",
    "    sales_ratio_NEW_query = sales_ratio_NEW.read()\n",
    "    sales_ratio = pd.read_sql(sales_ratio_NEW_query,db_connections)\n",
    "    print('sales_ratio is ready')\n",
    "\n",
    "    # close the connection\n",
    "    db_connections.close()  \n",
    "    print('MySQL query is loaded and db_connections is closed ')\n",
    "except Exception as e:\n",
    "    db_connections.close()\n",
    "    print(str(e))"
   ]
  },
  {
   "cell_type": "code",
   "execution_count": 6,
   "metadata": {},
   "outputs": [
    {
     "name": "stdout",
     "output_type": "stream",
     "text": [
      "loading article_stock ...\n"
     ]
    },
    {
     "name": "stderr",
     "output_type": "stream",
     "text": [
      "C:\\Users\\rdpadmin\\AppData\\Local\\Temp\\ipykernel_11692\\2348813330.py:14: UserWarning: pandas only supports SQLAlchemy connectable (engine/connection) or database string URI or sqlite3 DBAPI2 connection. Other DBAPI2 objects are not tested. Please consider using SQLAlchemy.\n",
      "  article_stock = pd.read_sql(article_stock_NEW_query,db_connections)\n"
     ]
    },
    {
     "name": "stdout",
     "output_type": "stream",
     "text": [
      "article_stock is ready\n",
      "MySQL query is loaded and db_connections is closed \n"
     ]
    }
   ],
   "source": [
    "# Fetching data from the database\n",
    "\n",
    "try:\n",
    "    db_connections = connection.connect(\n",
    "        host=db_credentials[0],\n",
    "        user=db_credentials[1],\n",
    "        password=db_credentials[2],\n",
    "        database=db_credentials[3]\n",
    "    )\n",
    "        # loading article_stock\n",
    "    print(\"loading article_stock ...\")\n",
    "    article_stock_NEW = open(sql_dir + '01_Article stock/Article Stock NEW.sql')\n",
    "    article_stock_NEW_query = article_stock_NEW.read()\n",
    "    article_stock = pd.read_sql(article_stock_NEW_query,db_connections)\n",
    "    print('article_stock is ready')\n",
    "\n",
    "    # close the connection\n",
    "    db_connections.close()  \n",
    "    print('MySQL query is loaded and db_connections is closed ')\n",
    "except Exception as e:\n",
    "    db_connections.close()\n",
    "    print(str(e))"
   ]
  },
  {
   "cell_type": "code",
   "execution_count": 7,
   "metadata": {},
   "outputs": [],
   "source": [
    "# Joining dataframes\n",
    "\n",
    "merged_df = pd.merge(sales_ratio, article_stock, on='Article ID', how='outer')"
   ]
  },
  {
   "cell_type": "code",
   "execution_count": 8,
   "metadata": {},
   "outputs": [],
   "source": [
    "# deleting dataframes which won't be used to save memory space\n",
    "\n",
    "del sales_ratio\n",
    "del article_stock"
   ]
  },
  {
   "cell_type": "code",
   "execution_count": 9,
   "metadata": {},
   "outputs": [],
   "source": [
    "# Data transfrmations\n",
    "\n",
    "merged_df['Available stock (for understock)'] = merged_df.Stock - merged_df.Reserved\n",
    "merged_df.dropna(how='any', subset='SA ID', inplace=True)\n",
    "merged_df = merged_df.astype(str)\n",
    "merged_df[['Auftrag number', 'Main auftrag','SA ID','Total no of articles','Article Group ID']] = merged_df[['Auftrag number', 'Main auftrag','SA ID','Total no of articles','Article Group ID']].replace(r'\\.0', '', regex=True)\n",
    "merged_df.replace( 'nan', '', inplace=True)\n",
    "merged_df.replace( 'None', '', inplace=True)\n",
    "merged_df.replace( 'NaT', '', inplace=True)"
   ]
  },
  {
   "cell_type": "code",
   "execution_count": 10,
   "metadata": {},
   "outputs": [],
   "source": [
    "# Save the result into csv\n",
    "\n",
    "merged_df.to_csv(files_dir + 'sales_ratio_merged.csv', index=False, encoding='utf-8', mode='w')"
   ]
  }
 ],
 "metadata": {
  "kernelspec": {
   "display_name": "Python 3",
   "language": "python",
   "name": "python3"
  },
  "language_info": {
   "codemirror_mode": {
    "name": "ipython",
    "version": 3
   },
   "file_extension": ".py",
   "mimetype": "text/x-python",
   "name": "python",
   "nbconvert_exporter": "python",
   "pygments_lexer": "ipython3",
   "version": "3.11.1"
  },
  "orig_nbformat": 4
 },
 "nbformat": 4,
 "nbformat_minor": 2
}
