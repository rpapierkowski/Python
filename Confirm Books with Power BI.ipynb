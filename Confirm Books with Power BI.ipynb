{
 "cells": [
  {
   "cell_type": "code",
   "execution_count": 117,
   "metadata": {},
   "outputs": [],
   "source": [
    "import mysql.connector  as connection\n",
    "import pandas as pd\n",
    "import os\n"
   ]
  },
  {
   "cell_type": "code",
   "execution_count": 118,
   "metadata": {},
   "outputs": [],
   "source": [
    "# Define files location\n",
    "db_credentials_dir = 'C:/Users/User/Desktop/Moje dokumenty/Raporty obce/Kacper/63_issue_158946_payments/'\n",
    "sql_dir = 'C:/Users/User/AppData/Roaming/DBeaverData/workspace6/General/Scripts/'\n",
    "file_dir = 'C:/Users/User/Desktop/Moje dokumenty/Raporty obce/Kacper/63_issue_158946_payments/Excel/2022/'"
   ]
  },
  {
   "cell_type": "code",
   "execution_count": 119,
   "metadata": {},
   "outputs": [
    {
     "name": "stderr",
     "output_type": "stream",
     "text": [
      "C:\\Users\\User\\AppData\\Local\\Temp\\ipykernel_4272\\3265242886.py:15: UserWarning: pandas only supports SQLAlchemy connectable (engine/connection) or database string URI or sqlite3 DBAPI2 connection. Other DBAPI2 objects are not tested. Please consider using SQLAlchemy.\n",
      "  auctions = pd.read_sql(sql_query,db_connections)\n"
     ]
    }
   ],
   "source": [
    "# Run MySQL query to fetch auftrags. To refresh data, keep in mind to set correct dates in MySQL query\n",
    "# Putty must be running while running the script\n",
    "with open(db_credentials_dir + 'db_credentials.txt', 'r') as f:\n",
    "    db_credentials = f.read().splitlines()\n",
    "\n",
    "try:\n",
    "    db_connections = connection.connect(\n",
    "        host=db_credentials[0],\n",
    "        user=db_credentials[1],\n",
    "        password=db_credentials[2],\n",
    "        database=db_credentials[3]\n",
    "    )\n",
    "    sql_file = open(sql_dir + 'Script-19.sql')\n",
    "    sql_query = sql_file.read()\n",
    "    auctions = pd.read_sql(sql_query,db_connections)\n",
    "\n",
    "    # close the connection\n",
    "    db_connections.close()  \n",
    "except Exception as e:\n",
    "    db_connections.close()\n",
    "    print(str(e))"
   ]
  },
  {
   "cell_type": "code",
   "execution_count": 120,
   "metadata": {},
   "outputs": [],
   "source": [
    "# Open accounting file\n",
    "in_books_22 = pd.read_csv(file_dir + 'in_books_22.csv')"
   ]
  },
  {
   "cell_type": "code",
   "execution_count": 121,
   "metadata": {},
   "outputs": [],
   "source": [
    "# Clean auctions data\n",
    "auctions['auction_number'] = auctions['auction_number'].astype(str)\n",
    "auctions['auction_number'] = auctions['auction_number'].astype(str).replace(r'\\.0', '', regex=True)\n",
    "auctions['invoice_number'] = auctions['invoice_number'].astype(str)\n",
    "auctions['invoice_number'] = auctions['invoice_number'].astype(str).replace(r'\\.0', '', regex=True)"
   ]
  },
  {
   "cell_type": "code",
   "execution_count": 122,
   "metadata": {},
   "outputs": [],
   "source": [
    "# Filter all rows that need auction numbers to be found\n",
    "in_books_22_filt = in_books_22[in_books_22['auction_number'].isna()]"
   ]
  },
  {
   "cell_type": "code",
   "execution_count": 123,
   "metadata": {},
   "outputs": [
    {
     "name": "stderr",
     "output_type": "stream",
     "text": [
      "C:\\Users\\User\\AppData\\Local\\Temp\\ipykernel_4272\\3609727072.py:7: SettingWithCopyWarning: \n",
      "A value is trying to be set on a copy of a slice from a DataFrame.\n",
      "Try using .loc[row_indexer,col_indexer] = value instead\n",
      "\n",
      "See the caveats in the documentation: https://pandas.pydata.org/pandas-docs/stable/user_guide/indexing.html#returning-a-view-versus-a-copy\n",
      "  in_books_22_filt['invoice_number'] = in_books_22_filt['Text'].apply(extract_number)\n"
     ]
    }
   ],
   "source": [
    "# Extract invoice number\n",
    "def extract_number(text):\n",
    "    text_parts = text.split(' ')\n",
    "    number = text_parts[1] if len(text_parts) > 1 else None\n",
    "    return number\n",
    "\n",
    "in_books_22_filt['invoice_number'] = in_books_22_filt['Text'].apply(extract_number)\n"
   ]
  },
  {
   "cell_type": "code",
   "execution_count": 124,
   "metadata": {},
   "outputs": [],
   "source": [
    "# Drop auction_number column with NaN values \n",
    "in_books_22_filt = in_books_22_filt.drop('auction_number', axis=1)"
   ]
  },
  {
   "cell_type": "code",
   "execution_count": 125,
   "metadata": {},
   "outputs": [],
   "source": [
    "# Add column with auction number \n",
    "merged = pd.merge(in_books_22_filt, auctions, on='invoice_number', how='left')"
   ]
  },
  {
   "cell_type": "code",
   "execution_count": 126,
   "metadata": {},
   "outputs": [],
   "source": [
    "# Drop all rows with NaN values from original file from accounting\n",
    "in_books_22_no_na = in_books_22.dropna(subset=[\"auction_number\"]) "
   ]
  },
  {
   "cell_type": "code",
   "execution_count": 127,
   "metadata": {},
   "outputs": [],
   "source": [
    "# Union both dataframes into one\n",
    "union_books = pd.concat([in_books_22_no_na, merged])"
   ]
  },
  {
   "cell_type": "code",
   "execution_count": 128,
   "metadata": {},
   "outputs": [
    {
     "name": "stderr",
     "output_type": "stream",
     "text": [
      "C:\\Users\\User\\AppData\\Local\\Temp\\ipykernel_4272\\2179302637.py:15: UserWarning: pandas only supports SQLAlchemy connectable (engine/connection) or database string URI or sqlite3 DBAPI2 connection. Other DBAPI2 objects are not tested. Please consider using SQLAlchemy.\n",
      "  all_tickets_sql = pd.read_sql(tickets_sql_query,db_connections)\n"
     ]
    }
   ],
   "source": [
    "# Run MySQL query to fetch tickets. To refresh data, keep in mind to set correct dates in MySQL query\n",
    "# Putty must be running while running the script\n",
    "with open(db_credentials_dir + 'db_credentials.txt', 'r') as f:\n",
    "    db_credentials = f.read().splitlines()\n",
    "\n",
    "try:\n",
    "    db_connections = connection.connect(\n",
    "        host=db_credentials[0],\n",
    "        user=db_credentials[1],\n",
    "        password=db_credentials[2],\n",
    "        database=db_credentials[3]\n",
    "    )\n",
    "    tickets_sql = open(file_dir + 'tickets_sql.sql')\n",
    "    tickets_sql_query = tickets_sql.read()\n",
    "    all_tickets_sql = pd.read_sql(tickets_sql_query,db_connections)\n",
    "\n",
    "    # close the connection\n",
    "    db_connections.close()  \n",
    "except Exception as e:\n",
    "    db_connections.close()\n",
    "    print(str(e))"
   ]
  },
  {
   "cell_type": "code",
   "execution_count": 129,
   "metadata": {},
   "outputs": [],
   "source": [
    "# Filter all rows that need auction numbers to be found\n",
    "in_books_22_filt = union_books[union_books['auction_number'].isna()]"
   ]
  },
  {
   "cell_type": "code",
   "execution_count": 130,
   "metadata": {},
   "outputs": [
    {
     "name": "stderr",
     "output_type": "stream",
     "text": [
      "C:\\Users\\User\\AppData\\Local\\Temp\\ipykernel_4272\\1225880865.py:2: SettingWithCopyWarning: \n",
      "A value is trying to be set on a copy of a slice from a DataFrame.\n",
      "Try using .loc[row_indexer,col_indexer] = value instead\n",
      "\n",
      "See the caveats in the documentation: https://pandas.pydata.org/pandas-docs/stable/user_guide/indexing.html#returning-a-view-versus-a-copy\n",
      "  in_books_22_split['ticket_number'] = in_books_22_filt['Text'].str.extract(r'(\\d+)')\n"
     ]
    }
   ],
   "source": [
    "# to filter out ticket numbers with space\n",
    "in_books_22_split = in_books_22_filt\n",
    "in_books_22_split['ticket_number'] = in_books_22_filt['Text'].str.extract(r'(\\d+)')\n",
    "in_books_22_split = in_books_22_split.dropna(subset=[\"ticket_number\"]) "
   ]
  },
  {
   "cell_type": "code",
   "execution_count": 131,
   "metadata": {},
   "outputs": [
    {
     "name": "stderr",
     "output_type": "stream",
     "text": [
      "C:\\Users\\User\\AppData\\Local\\Temp\\ipykernel_4272\\248470219.py:2: SettingWithCopyWarning: \n",
      "A value is trying to be set on a copy of a slice from a DataFrame.\n",
      "Try using .loc[row_indexer,col_indexer] = value instead\n",
      "\n",
      "See the caveats in the documentation: https://pandas.pydata.org/pandas-docs/stable/user_guide/indexing.html#returning-a-view-versus-a-copy\n",
      "  in_books_22_comb['ticket_number'] = in_books_22_filt['Text'].str.extract(r'ticket(\\d+)')\n"
     ]
    }
   ],
   "source": [
    "# to filter out ticket numbers without space\n",
    "in_books_22_comb = in_books_22_filt\n",
    "in_books_22_comb['ticket_number'] = in_books_22_filt['Text'].str.extract(r'ticket(\\d+)')\n",
    "in_books_22_comb = in_books_22_comb.dropna(subset=[\"ticket_number\"]) "
   ]
  },
  {
   "cell_type": "code",
   "execution_count": 132,
   "metadata": {},
   "outputs": [],
   "source": [
    "# all tickets numbers that need auction number to be added\n",
    "union_ticket = pd.concat([in_books_22_split, in_books_22_comb])"
   ]
  },
  {
   "cell_type": "code",
   "execution_count": 133,
   "metadata": {},
   "outputs": [],
   "source": [
    "# cleare those where ticket number were not present\n",
    "union_ticket = union_ticket.drop(['auction_number', 'txnid'], axis=1)"
   ]
  },
  {
   "cell_type": "code",
   "execution_count": 134,
   "metadata": {},
   "outputs": [],
   "source": [
    "# prepare df for join\n",
    "union_ticket['ticket_number'] = union_ticket['ticket_number'].astype(str)\n",
    "union_ticket['ticket_number'] = union_ticket['ticket_number'].str.strip()\n",
    "all_tickets_sql['ticket_number'] = all_tickets_sql['ticket_number'].astype(str)\n",
    "all_tickets_sql['ticket_number'] = all_tickets_sql['ticket_number'].str.strip()"
   ]
  },
  {
   "cell_type": "code",
   "execution_count": 135,
   "metadata": {},
   "outputs": [],
   "source": [
    "# join auction number to ticket number\n",
    "tickets = pd.merge(union_ticket, all_tickets_sql, on='ticket_number', how='left')"
   ]
  },
  {
   "cell_type": "code",
   "execution_count": 136,
   "metadata": {},
   "outputs": [
    {
     "name": "stderr",
     "output_type": "stream",
     "text": [
      "C:\\Users\\User\\AppData\\Local\\Temp\\ipykernel_4272\\2423840857.py:3: SettingWithCopyWarning: \n",
      "A value is trying to be set on a copy of a slice from a DataFrame.\n",
      "Try using .loc[row_indexer,col_indexer] = value instead\n",
      "\n",
      "See the caveats in the documentation: https://pandas.pydata.org/pandas-docs/stable/user_guide/indexing.html#returning-a-view-versus-a-copy\n",
      "  in_books_22_filt['Text'] = in_books_22_filt['Text'].astype(str)\n",
      "C:\\Users\\User\\AppData\\Local\\Temp\\ipykernel_4272\\2423840857.py:4: SettingWithCopyWarning: \n",
      "A value is trying to be set on a copy of a slice from a DataFrame.\n",
      "Try using .loc[row_indexer,col_indexer] = value instead\n",
      "\n",
      "See the caveats in the documentation: https://pandas.pydata.org/pandas-docs/stable/user_guide/indexing.html#returning-a-view-versus-a-copy\n",
      "  in_books_22_filt['Text'] = in_books_22_filt['Text'].str.strip()\n"
     ]
    }
   ],
   "source": [
    "# prepare df for cleaning\n",
    "tickets['Text'] = tickets['Text'].astype(str)\n",
    "tickets['Text'] = tickets['Text'].str.strip()\n",
    "in_books_22_filt['Text'] = in_books_22_filt['Text'].astype(str)\n",
    "in_books_22_filt['Text'] = in_books_22_filt['Text'].str.strip()"
   ]
  },
  {
   "cell_type": "code",
   "execution_count": 137,
   "metadata": {},
   "outputs": [],
   "source": [
    "# find all values where I was unable to match any auction number that were truncated\n",
    "not_in_tickets = in_books_22_filt[~in_books_22_filt['Text'].isin(tickets['Text'])]"
   ]
  },
  {
   "cell_type": "code",
   "execution_count": 138,
   "metadata": {},
   "outputs": [],
   "source": [
    "# union dataframes\n",
    "tickets_all = pd.concat([not_in_tickets, tickets])"
   ]
  },
  {
   "cell_type": "code",
   "execution_count": 143,
   "metadata": {},
   "outputs": [],
   "source": [
    "# remove values that were taken for processing\n",
    "union_books2 = union_books.dropna(subset=[\"auction_number\"]) "
   ]
  },
  {
   "cell_type": "code",
   "execution_count": 162,
   "metadata": {},
   "outputs": [],
   "source": [
    "# add values that were processed \n",
    "union_books = pd.concat([tickets_all, union_books2])"
   ]
  },
  {
   "cell_type": "code",
   "execution_count": 151,
   "metadata": {},
   "outputs": [
    {
     "name": "stderr",
     "output_type": "stream",
     "text": [
      "C:\\Users\\User\\AppData\\Local\\Temp\\ipykernel_4272\\691017383.py:2: DtypeWarning: Columns (2,14) have mixed types. Specify dtype option on import or set low_memory=False.\n",
      "  FACT_all_transactions = pd.read_csv(file_dir + 'FACT_all_transactions.csv')\n"
     ]
    }
   ],
   "source": [
    "# Read data from Power BI\n",
    "FACT_all_transactions = pd.read_csv(file_dir + 'FACT_all_transactions.csv')"
   ]
  },
  {
   "cell_type": "code",
   "execution_count": 152,
   "metadata": {},
   "outputs": [],
   "source": [
    "# Split auction number\n",
    "FACT_all_transactions[['auction_number', 'txnid']] = FACT_all_transactions['Main auction'].str.split('_', expand=True)"
   ]
  },
  {
   "cell_type": "code",
   "execution_count": 153,
   "metadata": {},
   "outputs": [],
   "source": [
    "# Change data type\n",
    "FACT_all_transactions['Transaction_Date'] = pd.to_datetime(FACT_all_transactions['Transaction_Date'])"
   ]
  },
  {
   "cell_type": "code",
   "execution_count": 154,
   "metadata": {},
   "outputs": [],
   "source": [
    "# Filter 2022\n",
    "FACT_all_transactions_2022= FACT_all_transactions[(FACT_all_transactions['Transaction_Date'] >= pd.Timestamp('2022-01-01')) & (FACT_all_transactions['Transaction_Date'] < pd.Timestamp('2023-01-01')) ]"
   ]
  },
  {
   "cell_type": "code",
   "execution_count": 179,
   "metadata": {},
   "outputs": [
    {
     "name": "stderr",
     "output_type": "stream",
     "text": [
      "C:\\Users\\User\\AppData\\Local\\Temp\\ipykernel_4272\\3082652090.py:3: SettingWithCopyWarning: \n",
      "A value is trying to be set on a copy of a slice from a DataFrame.\n",
      "Try using .loc[row_indexer,col_indexer] = value instead\n",
      "\n",
      "See the caveats in the documentation: https://pandas.pydata.org/pandas-docs/stable/user_guide/indexing.html#returning-a-view-versus-a-copy\n",
      "  FACT_all_transactions_2022['auction_number'] = FACT_all_transactions_2022['auction_number'].astype(str)\n",
      "C:\\Users\\User\\AppData\\Local\\Temp\\ipykernel_4272\\3082652090.py:5: SettingWithCopyWarning: \n",
      "A value is trying to be set on a copy of a slice from a DataFrame.\n",
      "Try using .loc[row_indexer,col_indexer] = value instead\n",
      "\n",
      "See the caveats in the documentation: https://pandas.pydata.org/pandas-docs/stable/user_guide/indexing.html#returning-a-view-versus-a-copy\n",
      "  FACT_all_transactions_2022['auction_number'] = FACT_all_transactions_2022['auction_number'].astype(str).replace(r'\\.0', '', regex=True)\n",
      "C:\\Users\\User\\AppData\\Local\\Temp\\ipykernel_4272\\3082652090.py:6: SettingWithCopyWarning: \n",
      "A value is trying to be set on a copy of a slice from a DataFrame.\n",
      "Try using .loc[row_indexer,col_indexer] = value instead\n",
      "\n",
      "See the caveats in the documentation: https://pandas.pydata.org/pandas-docs/stable/user_guide/indexing.html#returning-a-view-versus-a-copy\n",
      "  FACT_all_transactions_2022['auction_number'] = FACT_all_transactions_2022['auction_number'].str.strip()\n"
     ]
    }
   ],
   "source": [
    "# prepare df for cleaning\n",
    "union_books['auction_number'] = union_books['auction_number'].astype(str)\n",
    "FACT_all_transactions_2022['auction_number'] = FACT_all_transactions_2022['auction_number'].astype(str)\n",
    "union_books['auction_number'] = union_books['auction_number'].astype(str).replace(r'\\.0', '', regex=True)\n",
    "FACT_all_transactions_2022['auction_number'] = FACT_all_transactions_2022['auction_number'].astype(str).replace(r'\\.0', '', regex=True)\n",
    "FACT_all_transactions_2022['auction_number'] = FACT_all_transactions_2022['auction_number'].str.strip()\n",
    "union_books['auction_number'] = union_books['auction_number'].str.strip()"
   ]
  },
  {
   "cell_type": "code",
   "execution_count": 180,
   "metadata": {},
   "outputs": [],
   "source": [
    "# substract all rows that are present in Power Bi\n",
    "in_books_22_fixed = union_books[~union_books['auction_number'].isin(FACT_all_transactions_2022['auction_number'])]"
   ]
  },
  {
   "cell_type": "code",
   "execution_count": 184,
   "metadata": {},
   "outputs": [],
   "source": [
    "# Save into the csv file\n",
    "in_books_22_fixed.to_csv(file_dir + 'in_books_22_fixed.csv', index=True, encoding='utf-8')"
   ]
  }
 ],
 "metadata": {
  "kernelspec": {
   "display_name": "Python 3",
   "language": "python",
   "name": "python3"
  },
  "language_info": {
   "codemirror_mode": {
    "name": "ipython",
    "version": 3
   },
   "file_extension": ".py",
   "mimetype": "text/x-python",
   "name": "python",
   "nbconvert_exporter": "python",
   "pygments_lexer": "ipython3",
   "version": "3.10.11"
  },
  "orig_nbformat": 4
 },
 "nbformat": 4,
 "nbformat_minor": 2
}
