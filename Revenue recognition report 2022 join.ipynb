{
 "cells": [
  {
   "cell_type": "code",
   "execution_count": 54,
   "metadata": {},
   "outputs": [],
   "source": [
    "import pandas as pd"
   ]
  },
  {
   "cell_type": "code",
   "execution_count": 55,
   "metadata": {},
   "outputs": [],
   "source": [
    "file21_dir = 'C:/Users/User/Desktop/Moje dokumenty/Raporty obce/Kacper/63_issue_158946_payments/PowerBI/Tables from Revenue recognition report fixed (18_01_2023)/'\n",
    "file22_dir = 'C:/Users/User/Desktop/Moje dokumenty/Raporty obce/Kacper/63_issue_158946_payments/PowerBI/05.23/'\n",
    "save_directory = 'C:/Users/User/Desktop/Moje dokumenty/Raporty obce/Kacper/63_issue_158946_payments/PowerBI/joined/'"
   ]
  },
  {
   "cell_type": "code",
   "execution_count": 56,
   "metadata": {},
   "outputs": [
    {
     "name": "stderr",
     "output_type": "stream",
     "text": [
      "C:\\Users\\User\\AppData\\Local\\Temp\\ipykernel_9420\\3270382996.py:2: DtypeWarning: Columns (2,14) have mixed types. Specify dtype option on import or set low_memory=False.\n",
      "  FACT_all_transactions21 = pd.read_csv(file21_dir + 'FACT_all_transactions.csv' )\n"
     ]
    }
   ],
   "source": [
    "# DIM_all_auction21 = pd.read_csv(file21_dir + 'DIM_all_auction.csv' )\n",
    "FACT_all_transactions21 = pd.read_csv(file21_dir + 'FACT_all_transactions.csv' )\n",
    "# FACT_cost_shiping21 = pd.read_csv(file21_dir + 'FACT_cost_shiping.csv' )"
   ]
  },
  {
   "cell_type": "code",
   "execution_count": 57,
   "metadata": {},
   "outputs": [
    {
     "name": "stderr",
     "output_type": "stream",
     "text": [
      "C:\\Users\\User\\AppData\\Local\\Temp\\ipykernel_9420\\3530298289.py:2: DtypeWarning: Columns (2,14) have mixed types. Specify dtype option on import or set low_memory=False.\n",
      "  FACT_all_transactions22 = pd.read_csv(file22_dir + 'FACT_all_transactions.csv' )\n"
     ]
    }
   ],
   "source": [
    "# DIM_all_auction22 = pd.read_csv(file22_dir + 'DIM_all_auction.csv' )\n",
    "FACT_all_transactions22 = pd.read_csv(file22_dir + 'FACT_all_transactions.csv' )\n",
    "# FACT_cost_shiping22 = pd.read_csv(file22_dir + 'FACT_cost_shiping.csv' )"
   ]
  },
  {
   "cell_type": "code",
   "execution_count": 58,
   "metadata": {},
   "outputs": [],
   "source": [
    "FACT_all_transactions21['Shipped_date'] = pd.to_datetime(FACT_all_transactions21['Shipped_date'])\n",
    "FACT_all_transactions21['Transaction_Date'] = pd.to_datetime(FACT_all_transactions21['Transaction_Date'])\n",
    "\n",
    "filt_FACT_all_transactions21 = FACT_all_transactions21[(FACT_all_transactions21['Shipped_date'] < pd.Timestamp('2022-01-01'))] # & (FACT_all_transactions21['Transaction_Date'] < pd.Timestamp('2022-01-01'))]\n"
   ]
  },
  {
   "cell_type": "code",
   "execution_count": 59,
   "metadata": {},
   "outputs": [
    {
     "name": "stderr",
     "output_type": "stream",
     "text": [
      "C:\\Users\\User\\AppData\\Local\\Temp\\ipykernel_9420\\1561842536.py:1: SettingWithCopyWarning: \n",
      "A value is trying to be set on a copy of a slice from a DataFrame.\n",
      "Try using .loc[row_indexer,col_indexer] = value instead\n",
      "\n",
      "See the caveats in the documentation: https://pandas.pydata.org/pandas-docs/stable/user_guide/indexing.html#returning-a-view-versus-a-copy\n",
      "  filt_FACT_all_transactions21['First_Payment'] = pd.to_datetime(filt_FACT_all_transactions21['First_Payment'])\n",
      "C:\\Users\\User\\AppData\\Local\\Temp\\ipykernel_9420\\1561842536.py:2: SettingWithCopyWarning: \n",
      "A value is trying to be set on a copy of a slice from a DataFrame.\n",
      "Try using .loc[row_indexer,col_indexer] = value instead\n",
      "\n",
      "See the caveats in the documentation: https://pandas.pydata.org/pandas-docs/stable/user_guide/indexing.html#returning-a-view-versus-a-copy\n",
      "  filt_FACT_all_transactions21['Ship_create_date'] = pd.to_datetime(filt_FACT_all_transactions21['Ship_create_date'])\n",
      "C:\\Users\\User\\AppData\\Local\\Temp\\ipykernel_9420\\1561842536.py:3: SettingWithCopyWarning: \n",
      "A value is trying to be set on a copy of a slice from a DataFrame.\n",
      "Try using .loc[row_indexer,col_indexer] = value instead\n",
      "\n",
      "See the caveats in the documentation: https://pandas.pydata.org/pandas-docs/stable/user_guide/indexing.html#returning-a-view-versus-a-copy\n",
      "  filt_FACT_all_transactions21['Create_date'] = pd.to_datetime(filt_FACT_all_transactions21['Create_date'])\n",
      "C:\\Users\\User\\AppData\\Local\\Temp\\ipykernel_9420\\1561842536.py:4: SettingWithCopyWarning: \n",
      "A value is trying to be set on a copy of a slice from a DataFrame.\n",
      "Try using .loc[row_indexer,col_indexer] = value instead\n",
      "\n",
      "See the caveats in the documentation: https://pandas.pydata.org/pandas-docs/stable/user_guide/indexing.html#returning-a-view-versus-a-copy\n",
      "  filt_FACT_all_transactions21['Selling_account'] = filt_FACT_all_transactions21['Selling_account'].astype(str)\n",
      "C:\\Users\\User\\AppData\\Local\\Temp\\ipykernel_9420\\1561842536.py:5: SettingWithCopyWarning: \n",
      "A value is trying to be set on a copy of a slice from a DataFrame.\n",
      "Try using .loc[row_indexer,col_indexer] = value instead\n",
      "\n",
      "See the caveats in the documentation: https://pandas.pydata.org/pandas-docs/stable/user_guide/indexing.html#returning-a-view-versus-a-copy\n",
      "  filt_FACT_all_transactions21['Selling_account'] = filt_FACT_all_transactions21['Selling_account'].replace(r'\\.0', '', regex=True)\n",
      "C:\\Users\\User\\AppData\\Local\\Temp\\ipykernel_9420\\1561842536.py:6: SettingWithCopyWarning: \n",
      "A value is trying to be set on a copy of a slice from a DataFrame.\n",
      "Try using .loc[row_indexer,col_indexer] = value instead\n",
      "\n",
      "See the caveats in the documentation: https://pandas.pydata.org/pandas-docs/stable/user_guide/indexing.html#returning-a-view-versus-a-copy\n",
      "  filt_FACT_all_transactions21['Vat_percent'] = filt_FACT_all_transactions21['Vat_percent'].astype(str)\n",
      "C:\\Users\\User\\AppData\\Local\\Temp\\ipykernel_9420\\1561842536.py:7: SettingWithCopyWarning: \n",
      "A value is trying to be set on a copy of a slice from a DataFrame.\n",
      "Try using .loc[row_indexer,col_indexer] = value instead\n",
      "\n",
      "See the caveats in the documentation: https://pandas.pydata.org/pandas-docs/stable/user_guide/indexing.html#returning-a-view-versus-a-copy\n",
      "  filt_FACT_all_transactions21['Vat_percent'] = filt_FACT_all_transactions21['Vat_percent'].replace(r'\\.0', '', regex=True)\n"
     ]
    }
   ],
   "source": [
    "filt_FACT_all_transactions21['First_Payment'] = pd.to_datetime(filt_FACT_all_transactions21['First_Payment'])\n",
    "filt_FACT_all_transactions21['Ship_create_date'] = pd.to_datetime(filt_FACT_all_transactions21['Ship_create_date'])\n",
    "filt_FACT_all_transactions21['Create_date'] = pd.to_datetime(filt_FACT_all_transactions21['Create_date'])\n",
    "filt_FACT_all_transactions21['Selling_account'] = filt_FACT_all_transactions21['Selling_account'].astype(str)\n",
    "filt_FACT_all_transactions21['Selling_account'] = filt_FACT_all_transactions21['Selling_account'].replace(r'\\.0', '', regex=True)\n",
    "filt_FACT_all_transactions21['Vat_percent'] = filt_FACT_all_transactions21['Vat_percent'].astype(str)\n",
    "filt_FACT_all_transactions21['Vat_percent'] = filt_FACT_all_transactions21['Vat_percent'].replace(r'\\.0', '', regex=True)\n"
   ]
  },
  {
   "cell_type": "code",
   "execution_count": 60,
   "metadata": {},
   "outputs": [],
   "source": [
    "filt_FACT_all_transactions21.to_csv(save_directory + 'filt_FACT_all_transactions21.csv', index=False, encoding='utf-8')"
   ]
  },
  {
   "cell_type": "code",
   "execution_count": 61,
   "metadata": {},
   "outputs": [],
   "source": [
    "FACT_all_transactions22['Shipped_date'] = pd.to_datetime(FACT_all_transactions22['Shipped_date'])\n",
    "FACT_all_transactions22['Transaction_Date'] = pd.to_datetime(FACT_all_transactions22['Transaction_Date'])\n",
    "\n",
    "filt_FACT_all_transactions22 = FACT_all_transactions22[(FACT_all_transactions22['Shipped_date'] >= pd.Timestamp('2022-01-01')) ] #& (FACT_all_transactions22['Transaction_Date'] < pd.Timestamp('2022-01-01'))]\n"
   ]
  },
  {
   "cell_type": "code",
   "execution_count": 62,
   "metadata": {},
   "outputs": [
    {
     "name": "stderr",
     "output_type": "stream",
     "text": [
      "C:\\Users\\User\\AppData\\Local\\Temp\\ipykernel_9420\\3642133580.py:1: SettingWithCopyWarning: \n",
      "A value is trying to be set on a copy of a slice from a DataFrame.\n",
      "Try using .loc[row_indexer,col_indexer] = value instead\n",
      "\n",
      "See the caveats in the documentation: https://pandas.pydata.org/pandas-docs/stable/user_guide/indexing.html#returning-a-view-versus-a-copy\n",
      "  filt_FACT_all_transactions22['First_Payment'] = pd.to_datetime(filt_FACT_all_transactions22['First_Payment'])\n",
      "C:\\Users\\User\\AppData\\Local\\Temp\\ipykernel_9420\\3642133580.py:2: SettingWithCopyWarning: \n",
      "A value is trying to be set on a copy of a slice from a DataFrame.\n",
      "Try using .loc[row_indexer,col_indexer] = value instead\n",
      "\n",
      "See the caveats in the documentation: https://pandas.pydata.org/pandas-docs/stable/user_guide/indexing.html#returning-a-view-versus-a-copy\n",
      "  filt_FACT_all_transactions22['Ship_create_date'] = pd.to_datetime(filt_FACT_all_transactions22['Ship_create_date'])\n",
      "C:\\Users\\User\\AppData\\Local\\Temp\\ipykernel_9420\\3642133580.py:3: SettingWithCopyWarning: \n",
      "A value is trying to be set on a copy of a slice from a DataFrame.\n",
      "Try using .loc[row_indexer,col_indexer] = value instead\n",
      "\n",
      "See the caveats in the documentation: https://pandas.pydata.org/pandas-docs/stable/user_guide/indexing.html#returning-a-view-versus-a-copy\n",
      "  filt_FACT_all_transactions22['Create_date'] = pd.to_datetime(filt_FACT_all_transactions22['Create_date'])\n",
      "C:\\Users\\User\\AppData\\Local\\Temp\\ipykernel_9420\\3642133580.py:4: SettingWithCopyWarning: \n",
      "A value is trying to be set on a copy of a slice from a DataFrame.\n",
      "Try using .loc[row_indexer,col_indexer] = value instead\n",
      "\n",
      "See the caveats in the documentation: https://pandas.pydata.org/pandas-docs/stable/user_guide/indexing.html#returning-a-view-versus-a-copy\n",
      "  filt_FACT_all_transactions22['Selling_account'] = filt_FACT_all_transactions22['Selling_account'].astype(str)\n",
      "C:\\Users\\User\\AppData\\Local\\Temp\\ipykernel_9420\\3642133580.py:5: SettingWithCopyWarning: \n",
      "A value is trying to be set on a copy of a slice from a DataFrame.\n",
      "Try using .loc[row_indexer,col_indexer] = value instead\n",
      "\n",
      "See the caveats in the documentation: https://pandas.pydata.org/pandas-docs/stable/user_guide/indexing.html#returning-a-view-versus-a-copy\n",
      "  filt_FACT_all_transactions22['Selling_account'] = filt_FACT_all_transactions22['Selling_account'].replace(r'\\.0', '', regex=True)\n",
      "C:\\Users\\User\\AppData\\Local\\Temp\\ipykernel_9420\\3642133580.py:6: SettingWithCopyWarning: \n",
      "A value is trying to be set on a copy of a slice from a DataFrame.\n",
      "Try using .loc[row_indexer,col_indexer] = value instead\n",
      "\n",
      "See the caveats in the documentation: https://pandas.pydata.org/pandas-docs/stable/user_guide/indexing.html#returning-a-view-versus-a-copy\n",
      "  filt_FACT_all_transactions22['Vat_percent'] = filt_FACT_all_transactions22['Vat_percent'].astype(str)\n",
      "C:\\Users\\User\\AppData\\Local\\Temp\\ipykernel_9420\\3642133580.py:7: SettingWithCopyWarning: \n",
      "A value is trying to be set on a copy of a slice from a DataFrame.\n",
      "Try using .loc[row_indexer,col_indexer] = value instead\n",
      "\n",
      "See the caveats in the documentation: https://pandas.pydata.org/pandas-docs/stable/user_guide/indexing.html#returning-a-view-versus-a-copy\n",
      "  filt_FACT_all_transactions22['Vat_percent'] = filt_FACT_all_transactions22['Vat_percent'].replace(r'\\.0', '', regex=True)\n"
     ]
    }
   ],
   "source": [
    "filt_FACT_all_transactions22['First_Payment'] = pd.to_datetime(filt_FACT_all_transactions22['First_Payment'])\n",
    "filt_FACT_all_transactions22['Ship_create_date'] = pd.to_datetime(filt_FACT_all_transactions22['Ship_create_date'])\n",
    "filt_FACT_all_transactions22['Create_date'] = pd.to_datetime(filt_FACT_all_transactions22['Create_date'])\n",
    "filt_FACT_all_transactions22['Selling_account'] = filt_FACT_all_transactions22['Selling_account'].astype(str)\n",
    "filt_FACT_all_transactions22['Selling_account'] = filt_FACT_all_transactions22['Selling_account'].replace(r'\\.0', '', regex=True)\n",
    "filt_FACT_all_transactions22['Vat_percent'] = filt_FACT_all_transactions22['Vat_percent'].astype(str)\n",
    "filt_FACT_all_transactions22['Vat_percent'] = filt_FACT_all_transactions22['Vat_percent'].replace(r'\\.0', '', regex=True)\n"
   ]
  },
  {
   "cell_type": "code",
   "execution_count": 63,
   "metadata": {},
   "outputs": [],
   "source": [
    "FACT_all_transactions = pd.concat([filt_FACT_all_transactions21, filt_FACT_all_transactions22])\n",
    "FACT_all_transactions.reset_index(drop=True, inplace=True)\n",
    "\n"
   ]
  },
  {
   "cell_type": "code",
   "execution_count": 64,
   "metadata": {},
   "outputs": [],
   "source": [
    "FACT_all_transactions.to_csv(save_directory + 'FACT_all_transactions.csv', index=False, encoding='utf-8')"
   ]
  },
  {
   "cell_type": "code",
   "execution_count": 65,
   "metadata": {},
   "outputs": [],
   "source": [
    "filt_FACT_all_transactions22.to_csv(save_directory + 'filt_FACT_all_transactions22.csv', index=False, encoding='utf-8')"
   ]
  }
 ],
 "metadata": {
  "kernelspec": {
   "display_name": "Python 3",
   "language": "python",
   "name": "python3"
  },
  "language_info": {
   "codemirror_mode": {
    "name": "ipython",
    "version": 3
   },
   "file_extension": ".py",
   "mimetype": "text/x-python",
   "name": "python",
   "nbconvert_exporter": "python",
   "pygments_lexer": "ipython3",
   "version": "3.10.11"
  },
  "orig_nbformat": 4
 },
 "nbformat": 4,
 "nbformat_minor": 2
}
