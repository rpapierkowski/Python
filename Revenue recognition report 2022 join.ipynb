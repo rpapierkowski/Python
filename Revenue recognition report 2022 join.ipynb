{
 "cells": [
  {
   "cell_type": "code",
   "execution_count": 1,
   "metadata": {},
   "outputs": [],
   "source": [
    "import pandas as pd"
   ]
  },
  {
   "cell_type": "code",
   "execution_count": 2,
   "metadata": {},
   "outputs": [],
   "source": [
    "file21_dir = 'C:/Users/User/Desktop/Moje dokumenty/Raporty obce/Kacper/63_issue_158946_payments/PowerBI/Tables from Revenue recognition report fixed (18_01_2023)/'\n",
    "file22_dir = 'C:/Users/User/Desktop/Moje dokumenty/Raporty obce/Kacper/63_issue_158946_payments/PowerBI/05.23/30,05/new logic/all/'\n",
    "save_directory = 'C:/Users/User/Desktop/Moje dokumenty/Raporty obce/Kacper/63_issue_158946_payments/PowerBI/joined/'"
   ]
  },
  {
   "cell_type": "code",
   "execution_count": 3,
   "metadata": {},
   "outputs": [
    {
     "name": "stderr",
     "output_type": "stream",
     "text": [
      "C:\\Users\\User\\AppData\\Local\\Temp\\ipykernel_11908\\3270382996.py:2: DtypeWarning: Columns (2,14) have mixed types. Specify dtype option on import or set low_memory=False.\n",
      "  FACT_all_transactions21 = pd.read_csv(file21_dir + 'FACT_all_transactions.csv' )\n"
     ]
    }
   ],
   "source": [
    "# DIM_all_auction21 = pd.read_csv(file21_dir + 'DIM_all_auction.csv' )\n",
    "FACT_all_transactions21 = pd.read_csv(file21_dir + 'FACT_all_transactions.csv' )\n",
    "# FACT_cost_shiping21 = pd.read_csv(file21_dir + 'FACT_cost_shiping.csv' )"
   ]
  },
  {
   "cell_type": "code",
   "execution_count": 4,
   "metadata": {},
   "outputs": [
    {
     "name": "stderr",
     "output_type": "stream",
     "text": [
      "C:\\Users\\User\\AppData\\Local\\Temp\\ipykernel_11908\\622290171.py:3: DtypeWarning: Columns (2,18) have mixed types. Specify dtype option on import or set low_memory=False.\n",
      "  FACT_all_transactions22 = pd.read_csv(file22_dir + 'All_ticket_payment.csv' )\n"
     ]
    }
   ],
   "source": [
    "# DIM_all_auction22 = pd.read_csv(file22_dir + 'DIM_all_auction.csv' )\n",
    "# FACT_all_transactions22 = pd.read_csv(file22_dir + 'FACT_all_transactions.csv' )\n",
    "FACT_all_transactions22 = pd.read_csv(file22_dir + 'All_ticket_payment.csv' )\n",
    "# FACT_cost_shiping22 = pd.read_csv(file22_dir + 'FACT_cost_shiping.csv' )"
   ]
  },
  {
   "cell_type": "code",
   "execution_count": 5,
   "metadata": {},
   "outputs": [],
   "source": [
    "FACT_all_transactions21['Shipped_date'] = pd.to_datetime(FACT_all_transactions21['Shipped_date'])\n",
    "FACT_all_transactions21['Transaction_Date'] = pd.to_datetime(FACT_all_transactions21['Transaction_Date'])\n",
    "\n",
    "# filt_FACT_all_transactions21 = FACT_all_transactions21[(FACT_all_transactions21['Shipped_date'] < pd.Timestamp('2022-01-01'))] # & (FACT_all_transactions21['Transaction_Date'] < pd.Timestamp('2022-01-01'))]\n",
    "filt_FACT_all_transactions21 = FACT_all_transactions21[(FACT_all_transactions21['Shipped_date'] < pd.Timestamp('2022-01-01'))]"
   ]
  },
  {
   "cell_type": "code",
   "execution_count": 6,
   "metadata": {},
   "outputs": [
    {
     "name": "stderr",
     "output_type": "stream",
     "text": [
      "C:\\Users\\User\\AppData\\Local\\Temp\\ipykernel_11908\\1561842536.py:1: SettingWithCopyWarning: \n",
      "A value is trying to be set on a copy of a slice from a DataFrame.\n",
      "Try using .loc[row_indexer,col_indexer] = value instead\n",
      "\n",
      "See the caveats in the documentation: https://pandas.pydata.org/pandas-docs/stable/user_guide/indexing.html#returning-a-view-versus-a-copy\n",
      "  filt_FACT_all_transactions21['First_Payment'] = pd.to_datetime(filt_FACT_all_transactions21['First_Payment'])\n",
      "C:\\Users\\User\\AppData\\Local\\Temp\\ipykernel_11908\\1561842536.py:2: SettingWithCopyWarning: \n",
      "A value is trying to be set on a copy of a slice from a DataFrame.\n",
      "Try using .loc[row_indexer,col_indexer] = value instead\n",
      "\n",
      "See the caveats in the documentation: https://pandas.pydata.org/pandas-docs/stable/user_guide/indexing.html#returning-a-view-versus-a-copy\n",
      "  filt_FACT_all_transactions21['Ship_create_date'] = pd.to_datetime(filt_FACT_all_transactions21['Ship_create_date'])\n",
      "C:\\Users\\User\\AppData\\Local\\Temp\\ipykernel_11908\\1561842536.py:3: SettingWithCopyWarning: \n",
      "A value is trying to be set on a copy of a slice from a DataFrame.\n",
      "Try using .loc[row_indexer,col_indexer] = value instead\n",
      "\n",
      "See the caveats in the documentation: https://pandas.pydata.org/pandas-docs/stable/user_guide/indexing.html#returning-a-view-versus-a-copy\n",
      "  filt_FACT_all_transactions21['Create_date'] = pd.to_datetime(filt_FACT_all_transactions21['Create_date'])\n",
      "C:\\Users\\User\\AppData\\Local\\Temp\\ipykernel_11908\\1561842536.py:4: SettingWithCopyWarning: \n",
      "A value is trying to be set on a copy of a slice from a DataFrame.\n",
      "Try using .loc[row_indexer,col_indexer] = value instead\n",
      "\n",
      "See the caveats in the documentation: https://pandas.pydata.org/pandas-docs/stable/user_guide/indexing.html#returning-a-view-versus-a-copy\n",
      "  filt_FACT_all_transactions21['Selling_account'] = filt_FACT_all_transactions21['Selling_account'].astype(str)\n",
      "C:\\Users\\User\\AppData\\Local\\Temp\\ipykernel_11908\\1561842536.py:5: SettingWithCopyWarning: \n",
      "A value is trying to be set on a copy of a slice from a DataFrame.\n",
      "Try using .loc[row_indexer,col_indexer] = value instead\n",
      "\n",
      "See the caveats in the documentation: https://pandas.pydata.org/pandas-docs/stable/user_guide/indexing.html#returning-a-view-versus-a-copy\n",
      "  filt_FACT_all_transactions21['Selling_account'] = filt_FACT_all_transactions21['Selling_account'].replace(r'\\.0', '', regex=True)\n",
      "C:\\Users\\User\\AppData\\Local\\Temp\\ipykernel_11908\\1561842536.py:6: SettingWithCopyWarning: \n",
      "A value is trying to be set on a copy of a slice from a DataFrame.\n",
      "Try using .loc[row_indexer,col_indexer] = value instead\n",
      "\n",
      "See the caveats in the documentation: https://pandas.pydata.org/pandas-docs/stable/user_guide/indexing.html#returning-a-view-versus-a-copy\n",
      "  filt_FACT_all_transactions21['Vat_percent'] = filt_FACT_all_transactions21['Vat_percent'].astype(str)\n",
      "C:\\Users\\User\\AppData\\Local\\Temp\\ipykernel_11908\\1561842536.py:7: SettingWithCopyWarning: \n",
      "A value is trying to be set on a copy of a slice from a DataFrame.\n",
      "Try using .loc[row_indexer,col_indexer] = value instead\n",
      "\n",
      "See the caveats in the documentation: https://pandas.pydata.org/pandas-docs/stable/user_guide/indexing.html#returning-a-view-versus-a-copy\n",
      "  filt_FACT_all_transactions21['Vat_percent'] = filt_FACT_all_transactions21['Vat_percent'].replace(r'\\.0', '', regex=True)\n"
     ]
    }
   ],
   "source": [
    "filt_FACT_all_transactions21['First_Payment'] = pd.to_datetime(filt_FACT_all_transactions21['First_Payment'])\n",
    "filt_FACT_all_transactions21['Ship_create_date'] = pd.to_datetime(filt_FACT_all_transactions21['Ship_create_date'])\n",
    "filt_FACT_all_transactions21['Create_date'] = pd.to_datetime(filt_FACT_all_transactions21['Create_date'])\n",
    "filt_FACT_all_transactions21['Selling_account'] = filt_FACT_all_transactions21['Selling_account'].astype(str)\n",
    "filt_FACT_all_transactions21['Selling_account'] = filt_FACT_all_transactions21['Selling_account'].replace(r'\\.0', '', regex=True)\n",
    "filt_FACT_all_transactions21['Vat_percent'] = filt_FACT_all_transactions21['Vat_percent'].astype(str)\n",
    "filt_FACT_all_transactions21['Vat_percent'] = filt_FACT_all_transactions21['Vat_percent'].replace(r'\\.0', '', regex=True)\n"
   ]
  },
  {
   "cell_type": "code",
   "execution_count": 19,
   "metadata": {},
   "outputs": [],
   "source": [
    "# filt_FACT_all_transactions21.to_csv(save_directory + 'filt_FACT_all_transactions21.csv', index=False, encoding='utf-8')"
   ]
  },
  {
   "cell_type": "code",
   "execution_count": 7,
   "metadata": {},
   "outputs": [],
   "source": [
    "FACT_all_transactions22['Shipped_date'] = pd.to_datetime(FACT_all_transactions22['Shipped_date'])\n",
    "FACT_all_transactions22['Transaction_Date'] = pd.to_datetime(FACT_all_transactions22['Transaction_Date'])\n",
    "\n",
    "filt_FACT_all_transactions22 = FACT_all_transactions22[(FACT_all_transactions22['Shipped_date'] >= pd.Timestamp('2022-01-01')) ] \n",
    "\n",
    "# filt_FACT_all_transactions22 = FACT_all_transactions22[(FACT_all_transactions22['Shipped_date'] >= pd.Timestamp('2022-01-01')) ] #& (FACT_all_transactions22['Transaction_Date'] < pd.Timestamp('2022-01-01'))]\n"
   ]
  },
  {
   "cell_type": "code",
   "execution_count": 8,
   "metadata": {},
   "outputs": [
    {
     "name": "stderr",
     "output_type": "stream",
     "text": [
      "C:\\Users\\User\\AppData\\Local\\Temp\\ipykernel_11908\\2055974618.py:2: SettingWithCopyWarning: \n",
      "A value is trying to be set on a copy of a slice from a DataFrame.\n",
      "Try using .loc[row_indexer,col_indexer] = value instead\n",
      "\n",
      "See the caveats in the documentation: https://pandas.pydata.org/pandas-docs/stable/user_guide/indexing.html#returning-a-view-versus-a-copy\n",
      "  filt_FACT_all_transactions22['Ship_create_date'] = pd.to_datetime(filt_FACT_all_transactions22['Ship_create_date'])\n",
      "C:\\Users\\User\\AppData\\Local\\Temp\\ipykernel_11908\\2055974618.py:3: SettingWithCopyWarning: \n",
      "A value is trying to be set on a copy of a slice from a DataFrame.\n",
      "Try using .loc[row_indexer,col_indexer] = value instead\n",
      "\n",
      "See the caveats in the documentation: https://pandas.pydata.org/pandas-docs/stable/user_guide/indexing.html#returning-a-view-versus-a-copy\n",
      "  filt_FACT_all_transactions22['Create_date'] = pd.to_datetime(filt_FACT_all_transactions22['Create_date'])\n",
      "C:\\Users\\User\\AppData\\Local\\Temp\\ipykernel_11908\\2055974618.py:4: SettingWithCopyWarning: \n",
      "A value is trying to be set on a copy of a slice from a DataFrame.\n",
      "Try using .loc[row_indexer,col_indexer] = value instead\n",
      "\n",
      "See the caveats in the documentation: https://pandas.pydata.org/pandas-docs/stable/user_guide/indexing.html#returning-a-view-versus-a-copy\n",
      "  filt_FACT_all_transactions22['Selling_account'] = filt_FACT_all_transactions22['Selling_account'].astype(str)\n",
      "C:\\Users\\User\\AppData\\Local\\Temp\\ipykernel_11908\\2055974618.py:5: SettingWithCopyWarning: \n",
      "A value is trying to be set on a copy of a slice from a DataFrame.\n",
      "Try using .loc[row_indexer,col_indexer] = value instead\n",
      "\n",
      "See the caveats in the documentation: https://pandas.pydata.org/pandas-docs/stable/user_guide/indexing.html#returning-a-view-versus-a-copy\n",
      "  filt_FACT_all_transactions22['Selling_account'] = filt_FACT_all_transactions22['Selling_account'].replace(r'\\.0', '', regex=True)\n",
      "C:\\Users\\User\\AppData\\Local\\Temp\\ipykernel_11908\\2055974618.py:6: SettingWithCopyWarning: \n",
      "A value is trying to be set on a copy of a slice from a DataFrame.\n",
      "Try using .loc[row_indexer,col_indexer] = value instead\n",
      "\n",
      "See the caveats in the documentation: https://pandas.pydata.org/pandas-docs/stable/user_guide/indexing.html#returning-a-view-versus-a-copy\n",
      "  filt_FACT_all_transactions22['Vat_percent'] = filt_FACT_all_transactions22['Vat_percent'].astype(str)\n",
      "C:\\Users\\User\\AppData\\Local\\Temp\\ipykernel_11908\\2055974618.py:7: SettingWithCopyWarning: \n",
      "A value is trying to be set on a copy of a slice from a DataFrame.\n",
      "Try using .loc[row_indexer,col_indexer] = value instead\n",
      "\n",
      "See the caveats in the documentation: https://pandas.pydata.org/pandas-docs/stable/user_guide/indexing.html#returning-a-view-versus-a-copy\n",
      "  filt_FACT_all_transactions22['Vat_percent'] = filt_FACT_all_transactions22['Vat_percent'].replace(r'\\.0', '', regex=True)\n"
     ]
    }
   ],
   "source": [
    "# filt_FACT_all_transactions22['First_Payment'] = pd.to_datetime(filt_FACT_all_transactions22['First_Payment'])\n",
    "filt_FACT_all_transactions22['Ship_create_date'] = pd.to_datetime(filt_FACT_all_transactions22['Ship_create_date'])\n",
    "filt_FACT_all_transactions22['Create_date'] = pd.to_datetime(filt_FACT_all_transactions22['Create_date'])\n",
    "filt_FACT_all_transactions22['Selling_account'] = filt_FACT_all_transactions22['Selling_account'].astype(str)\n",
    "filt_FACT_all_transactions22['Selling_account'] = filt_FACT_all_transactions22['Selling_account'].replace(r'\\.0', '', regex=True)\n",
    "filt_FACT_all_transactions22['Vat_percent'] = filt_FACT_all_transactions22['Vat_percent'].astype(str)\n",
    "filt_FACT_all_transactions22['Vat_percent'] = filt_FACT_all_transactions22['Vat_percent'].replace(r'\\.0', '', regex=True)\n"
   ]
  },
  {
   "cell_type": "code",
   "execution_count": 14,
   "metadata": {},
   "outputs": [],
   "source": [
    "DIM_all_auction = pd.read_csv(file22_dir + 'All_auftrag.csv')\n"
   ]
  },
  {
   "cell_type": "code",
   "execution_count": 16,
   "metadata": {},
   "outputs": [
    {
     "name": "stderr",
     "output_type": "stream",
     "text": [
      "C:\\Users\\User\\AppData\\Local\\Temp\\ipykernel_11908\\133530128.py:2: SettingWithCopyWarning: \n",
      "A value is trying to be set on a copy of a slice from a DataFrame\n",
      "\n",
      "See the caveats in the documentation: https://pandas.pydata.org/pandas-docs/stable/user_guide/indexing.html#returning-a-view-versus-a-copy\n",
      "  DIM_Company.drop_duplicates(subset='Main auction', inplace=True)\n"
     ]
    }
   ],
   "source": [
    "DIM_Company = DIM_all_auction[['Main auction', 'Seller']]\n",
    "DIM_Company.drop_duplicates(subset='Main auction', inplace=True)\n",
    "transactions_2022_company = pd.merge(filt_FACT_all_transactions22, DIM_Company, on='Main auction', how='left')"
   ]
  },
  {
   "cell_type": "code",
   "execution_count": 19,
   "metadata": {},
   "outputs": [],
   "source": [
    "transactions_2022_company = transactions_2022_company[transactions_2022_company['Seller'] != 'Artehome']"
   ]
  },
  {
   "cell_type": "code",
   "execution_count": 23,
   "metadata": {},
   "outputs": [],
   "source": [
    "FACT_all_transactions = pd.concat([filt_FACT_all_transactions21, transactions_2022_company])\n",
    "FACT_all_transactions.reset_index(drop=True, inplace=True)\n",
    "\n"
   ]
  },
  {
   "cell_type": "code",
   "execution_count": 25,
   "metadata": {},
   "outputs": [],
   "source": [
    "columns_to_drop = ['First_Payment', 'Auction number', 'Txnid', 'Seller']\n",
    "FACT_all_transactions = FACT_all_transactions.drop(columns_to_drop, axis=1)"
   ]
  },
  {
   "cell_type": "code",
   "execution_count": 27,
   "metadata": {},
   "outputs": [],
   "source": [
    "FACT_all_transactions.to_csv(file22_dir + 'FACT_all_transactions.csv', index=False, encoding='utf-8')"
   ]
  },
  {
   "cell_type": "code",
   "execution_count": null,
   "metadata": {},
   "outputs": [],
   "source": [
    "# filt_FACT_all_transactions22.to_csv(save_directory + 'filt_FACT_all_transactions22.csv', index=False, encoding='utf-8')"
   ]
  }
 ],
 "metadata": {
  "kernelspec": {
   "display_name": "Python 3",
   "language": "python",
   "name": "python3"
  },
  "language_info": {
   "codemirror_mode": {
    "name": "ipython",
    "version": 3
   },
   "file_extension": ".py",
   "mimetype": "text/x-python",
   "name": "python",
   "nbconvert_exporter": "python",
   "pygments_lexer": "ipython3",
   "version": "3.10.11"
  },
  "orig_nbformat": 4
 },
 "nbformat": 4,
 "nbformat_minor": 2
}
