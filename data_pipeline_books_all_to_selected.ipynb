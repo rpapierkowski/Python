{
 "cells": [
  {
   "cell_type": "code",
   "execution_count": null,
   "metadata": {},
   "outputs": [],
   "source": [
    "import mysql.connector  as connection\n",
    "import pandas as pd\n",
    "import datetime as dt\n",
    "import os"
   ]
  },
  {
   "cell_type": "code",
   "execution_count": null,
   "metadata": {},
   "outputs": [],
   "source": [
    "file_dir = 'C:/Users/User/Desktop/Moje dokumenty/Raporty obce/Kacper/63_issue_158946_payments/Excel/2022/'\n",
    "db_credentials_dir = 'C:/Users/User/Desktop/Moje dokumenty/Raporty obce/Kacper/63_issue_158946_payments/'"
   ]
  },
  {
   "cell_type": "code",
   "execution_count": null,
   "metadata": {},
   "outputs": [],
   "source": [
    "all_books_22 = pd.read_excel(file_dir + 'all_books_22.xlsx', sheet_name='White')"
   ]
  },
  {
   "cell_type": "code",
   "execution_count": 7,
   "metadata": {},
   "outputs": [],
   "source": [
    "Beliani_3214 = all_books_22[all_books_22['Source.Name'].str.contains('3214', na=False)]"
   ]
  },
  {
   "cell_type": "code",
   "execution_count": 20,
   "metadata": {},
   "outputs": [
    {
     "name": "stderr",
     "output_type": "stream",
     "text": [
      "C:\\Users\\User\\AppData\\Local\\Temp\\ipykernel_14752\\609807930.py:13: FutureWarning: save is not part of the public API, usage can give unexpected results and will be removed in a future version\n",
      "  excel_writer.save()\n"
     ]
    }
   ],
   "source": [
    "# List of accounts to filter \n",
    "values = [3214, 3215, 3216, 3220, 3222, 3229, 3257, 3268, 3276, 3287]\n",
    "\n",
    "excel_writer = pd.ExcelWriter(file_dir + 'Accounts_Power_BI\\Selected_books.xlsx')\n",
    "# Create dataframes for each value\n",
    "for value in values:\n",
    "    filtered_df = Beliani_de[Beliani_de['Source.Name'].str.contains(str(value), na=False)]\n",
    "   # filtered_df.to_csv(file_dir + 'Accounts_Power_BI\\Beliani_{}.csv'.format(value), index=False)\n",
    "    filtered_df.to_excel(excel_writer, sheet_name=str('Books' + str(value)), index=False)\n",
    "\n",
    "    globals()['Beliani_{}'.format(value)] = filtered_df\n",
    "\n",
    "excel_writer.save()\n"
   ]
  }
 ],
 "metadata": {
  "kernelspec": {
   "display_name": "Python 3",
   "language": "python",
   "name": "python3"
  },
  "language_info": {
   "codemirror_mode": {
    "name": "ipython",
    "version": 3
   },
   "file_extension": ".py",
   "mimetype": "text/x-python",
   "name": "python",
   "nbconvert_exporter": "python",
   "pygments_lexer": "ipython3",
   "version": "3.10.11"
  },
  "orig_nbformat": 4
 },
 "nbformat": 4,
 "nbformat_minor": 2
}
