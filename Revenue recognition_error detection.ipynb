{
 "cells": [
  {
   "cell_type": "code",
   "execution_count": 2,
   "metadata": {},
   "outputs": [],
   "source": [
    "import pandas as pd\n",
    "import os\n"
   ]
  },
  {
   "cell_type": "code",
   "execution_count": 3,
   "metadata": {},
   "outputs": [],
   "source": [
    "file_dir = 'C:/Users/User/Desktop/Moje dokumenty/Raporty obce/Kacper/63_issue_158946_payments/Excel/2022/'"
   ]
  },
  {
   "cell_type": "code",
   "execution_count": 4,
   "metadata": {},
   "outputs": [],
   "source": [
    "Beliani_ch = pd.read_excel(file_dir + 'Beliani Switzerland.xlsx', sheet_name='union')"
   ]
  },
  {
   "cell_type": "code",
   "execution_count": 6,
   "metadata": {},
   "outputs": [],
   "source": [
    "Beliani_ch_auctions = Beliani_ch[Beliani_ch['Text'].str.contains('Auction', na=False)]\n"
   ]
  },
  {
   "cell_type": "code",
   "execution_count": 7,
   "metadata": {},
   "outputs": [],
   "source": [
    "Beliani_ch_tickets = pd.read_csv(file_dir + 'Beliani_ch_tickets.csv')\n",
    "Beliani_ch_tickets['number'] = Beliani_ch_tickets['number'].astype(str)\n",
    "Beliani_ch_tickets['number'] = Beliani_ch_tickets['number'].astype(str).replace(r'\\.0', '', regex=True)\n"
   ]
  },
  {
   "cell_type": "code",
   "execution_count": 8,
   "metadata": {},
   "outputs": [],
   "source": [
    "Beliani_ch_tickets_au = pd.read_excel(file_dir + 'Beliani_ch_tickets_auctions.xlsx')"
   ]
  },
  {
   "cell_type": "code",
   "execution_count": 11,
   "metadata": {},
   "outputs": [],
   "source": [
    "Beliani_ch_tickets_au.rename(columns={'ticket':'number'},inplace=True)"
   ]
  },
  {
   "cell_type": "code",
   "execution_count": 12,
   "metadata": {},
   "outputs": [],
   "source": [
    "Beliani_ch_tickets_au['number'] = Beliani_ch_tickets_au['number'].astype(str)"
   ]
  },
  {
   "cell_type": "code",
   "execution_count": 13,
   "metadata": {},
   "outputs": [],
   "source": [
    "merged_df = pd.merge(Beliani_ch_tickets_au, Beliani_ch_tickets, on='number')"
   ]
  },
  {
   "cell_type": "code",
   "execution_count": 18,
   "metadata": {},
   "outputs": [],
   "source": [
    "merged_df.rename(columns={'ticket':'ticket/auction'},inplace=True)"
   ]
  },
  {
   "cell_type": "code",
   "execution_count": 23,
   "metadata": {},
   "outputs": [],
   "source": [
    "merged_df.rename(columns={'number':'ticket number'},inplace=True)"
   ]
  },
  {
   "cell_type": "code",
   "execution_count": 15,
   "metadata": {},
   "outputs": [
    {
     "name": "stderr",
     "output_type": "stream",
     "text": [
      "C:\\Users\\User\\AppData\\Local\\Temp\\ipykernel_15604\\3345117372.py:1: FutureWarning: In a future version of pandas all arguments of StringMethods.split except for the argument 'pat' will be keyword-only.\n",
      "  Beliani_ch_auctions[['number', 'auction']] = Beliani_ch_auctions['Text'].str.split(' ', 1, expand=True)\n",
      "C:\\Users\\User\\AppData\\Local\\Temp\\ipykernel_15604\\3345117372.py:1: SettingWithCopyWarning: \n",
      "A value is trying to be set on a copy of a slice from a DataFrame.\n",
      "Try using .loc[row_indexer,col_indexer] = value instead\n",
      "\n",
      "See the caveats in the documentation: https://pandas.pydata.org/pandas-docs/stable/user_guide/indexing.html#returning-a-view-versus-a-copy\n",
      "  Beliani_ch_auctions[['number', 'auction']] = Beliani_ch_auctions['Text'].str.split(' ', 1, expand=True)\n",
      "C:\\Users\\User\\AppData\\Local\\Temp\\ipykernel_15604\\3345117372.py:1: SettingWithCopyWarning: \n",
      "A value is trying to be set on a copy of a slice from a DataFrame.\n",
      "Try using .loc[row_indexer,col_indexer] = value instead\n",
      "\n",
      "See the caveats in the documentation: https://pandas.pydata.org/pandas-docs/stable/user_guide/indexing.html#returning-a-view-versus-a-copy\n",
      "  Beliani_ch_auctions[['number', 'auction']] = Beliani_ch_auctions['Text'].str.split(' ', 1, expand=True)\n"
     ]
    }
   ],
   "source": [
    "Beliani_ch_auctions[['number', 'auction']] = Beliani_ch_auctions['Text'].str.split(' ', 1, expand=True)"
   ]
  },
  {
   "cell_type": "code",
   "execution_count": 20,
   "metadata": {},
   "outputs": [
    {
     "name": "stderr",
     "output_type": "stream",
     "text": [
      "C:\\Users\\User\\AppData\\Local\\Temp\\ipykernel_15604\\3556590663.py:1: SettingWithCopyWarning: \n",
      "A value is trying to be set on a copy of a slice from a DataFrame\n",
      "\n",
      "See the caveats in the documentation: https://pandas.pydata.org/pandas-docs/stable/user_guide/indexing.html#returning-a-view-versus-a-copy\n",
      "  Beliani_ch_auctions.rename(columns={'number':'ticket/auction'},inplace=True)\n"
     ]
    }
   ],
   "source": [
    "Beliani_ch_auctions.rename(columns={'number':'ticket/auction'},inplace=True)"
   ]
  },
  {
   "cell_type": "code",
   "execution_count": 25,
   "metadata": {},
   "outputs": [],
   "source": [
    "union_df = pd.concat([merged_df, Beliani_ch_auctions])"
   ]
  },
  {
   "cell_type": "code",
   "execution_count": 52,
   "metadata": {},
   "outputs": [
    {
     "name": "stderr",
     "output_type": "stream",
     "text": [
      "C:\\Users\\User\\AppData\\Local\\Temp\\ipykernel_15604\\3173070755.py:1: DtypeWarning: Columns (2,14) have mixed types. Specify dtype option on import or set low_memory=False.\n",
      "  FACT_all_transactions = pd.read_csv('C:/Users/User/Desktop/Moje dokumenty/Raporty obce/Kacper/63_issue_158946_payments/PowerBI/joined/FACT_all_transactions.csv')\n"
     ]
    }
   ],
   "source": [
    "FACT_all_transactions = pd.read_csv('C:/Users/User/Desktop/Moje dokumenty/Raporty obce/Kacper/63_issue_158946_payments/PowerBI/joined/FACT_all_transactions.csv')"
   ]
  },
  {
   "cell_type": "code",
   "execution_count": 53,
   "metadata": {},
   "outputs": [],
   "source": [
    "DIM_all_auction = pd.read_csv('C:/Users/User/Desktop/Moje dokumenty/Raporty obce/Kacper/63_issue_158946_payments/PowerBI/05.23/DIM_all_auction.csv' )"
   ]
  },
  {
   "cell_type": "code",
   "execution_count": 60,
   "metadata": {},
   "outputs": [],
   "source": [
    "DIM_all_auction2 = DIM_all_auction.loc[:,['Main auction', 'Company']]"
   ]
  },
  {
   "cell_type": "code",
   "execution_count": 58,
   "metadata": {},
   "outputs": [],
   "source": [
    "merged_power_bi = pd.merge(DIM_all_auction, FACT_all_transactions,how='right', on='Main auction')"
   ]
  },
  {
   "cell_type": "code",
   "execution_count": 61,
   "metadata": {},
   "outputs": [],
   "source": [
    "merged_power_bi['Transaction_Date'] = pd.to_datetime(merged_power_bi['Transaction_Date'])"
   ]
  },
  {
   "cell_type": "code",
   "execution_count": 62,
   "metadata": {},
   "outputs": [],
   "source": [
    "merged_power_bi= merged_power_bi[(merged_power_bi['Transaction_Date'] >= pd.Timestamp('2022-01-01')) & (merged_power_bi['Transaction_Date'] < pd.Timestamp('2023-01-01')) ]"
   ]
  },
  {
   "cell_type": "code",
   "execution_count": 63,
   "metadata": {},
   "outputs": [],
   "source": [
    "merged_power_bi_CH = merged_power_bi[merged_power_bi['Company'].str.contains('Beliani CH', na=False)]\n"
   ]
  },
  {
   "cell_type": "code",
   "execution_count": 48,
   "metadata": {},
   "outputs": [],
   "source": [
    "merged_all = pd.merge(union_df, merged_power_bi_CH, how=\"inner\", on='Auction number')"
   ]
  },
  {
   "cell_type": "code",
   "execution_count": 39,
   "metadata": {},
   "outputs": [],
   "source": [
    "merged = pd.merge(union_df, merged_power_bi_CH, on='Auction number', how='left', indicator=True)\n"
   ]
  },
  {
   "cell_type": "code",
   "execution_count": 33,
   "metadata": {},
   "outputs": [],
   "source": [
    "union_df.rename(columns={'auction':'Auction number'},inplace=True)"
   ]
  },
  {
   "cell_type": "code",
   "execution_count": 65,
   "metadata": {},
   "outputs": [],
   "source": [
    "merged_power_bi_CH.to_csv(file_dir + 'merged_power_bi_CH2.csv', index=False, encoding='utf-8')"
   ]
  },
  {
   "cell_type": "code",
   "execution_count": 27,
   "metadata": {},
   "outputs": [],
   "source": [
    "union_df.to_csv(file_dir + 'union_df.csv', index=False, encoding='utf-8')"
   ]
  }
 ],
 "metadata": {
  "kernelspec": {
   "display_name": "Python 3",
   "language": "python",
   "name": "python3"
  },
  "language_info": {
   "codemirror_mode": {
    "name": "ipython",
    "version": 3
   },
   "file_extension": ".py",
   "mimetype": "text/x-python",
   "name": "python",
   "nbconvert_exporter": "python",
   "pygments_lexer": "ipython3",
   "version": "3.10.11"
  },
  "orig_nbformat": 4
 },
 "nbformat": 4,
 "nbformat_minor": 2
}
