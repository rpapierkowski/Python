{
 "cells": [
  {
   "cell_type": "code",
   "execution_count": 23,
   "metadata": {},
   "outputs": [],
   "source": [
    "import mysql.connector  as connection\n",
    "import pandas as pd\n",
    "import numpy as np\n",
    "import datetime as dt\n",
    "import os\n",
    "import re"
   ]
  },
  {
   "cell_type": "code",
   "execution_count": 24,
   "metadata": {},
   "outputs": [],
   "source": [
    "file_dir = 'C:/Users/User/Desktop/Moje dokumenty/Raporty obce/Kacper/63_issue_158946_payments/Excel/2022/'\n",
    "db_credentials_dir = 'C:/Users/User/Desktop/Moje dokumenty/Raporty obce/Kacper/63_issue_158946_payments/'\n",
    "sql_dir = 'C:/Users/User/AppData/Roaming/DBeaverData/workspace6/General/Scripts/'"
   ]
  },
  {
   "cell_type": "code",
   "execution_count": 25,
   "metadata": {},
   "outputs": [],
   "source": [
    "Beliani_de = pd.read_excel(file_dir + 'Full List v2.xlsx', sheet_name='White')"
   ]
  },
  {
   "cell_type": "code",
   "execution_count": 26,
   "metadata": {},
   "outputs": [],
   "source": [
    "Beliani_de['Text'] = Beliani_de['Text'].str.lower()"
   ]
  },
  {
   "cell_type": "code",
   "execution_count": 27,
   "metadata": {},
   "outputs": [],
   "source": [
    "Beliani_de['Transaction_Date'] = pd.to_datetime(Beliani_de['Transaction_Date'])"
   ]
  },
  {
   "cell_type": "code",
   "execution_count": 28,
   "metadata": {},
   "outputs": [
    {
     "name": "stderr",
     "output_type": "stream",
     "text": [
      "C:\\Users\\User\\AppData\\Local\\Temp\\ipykernel_14072\\2843205706.py:15: UserWarning: pandas only supports SQLAlchemy connectable (engine/connection) or database string URI or sqlite3 DBAPI2 connection. Other DBAPI2 objects are not tested. Please consider using SQLAlchemy.\n",
      "  auctions = pd.read_sql(sql_query,db_connections)\n"
     ]
    }
   ],
   "source": [
    "# Run MySQL query to fetch auftrags\n",
    "# Putty must be running while running the script\n",
    "with open(db_credentials_dir + 'db_credentials.txt', 'r') as f:\n",
    "    db_credentials = f.read().splitlines()\n",
    "\n",
    "try:\n",
    "    db_connections = connection.connect(\n",
    "        host=db_credentials[0],\n",
    "        user=db_credentials[1],\n",
    "        password=db_credentials[2],\n",
    "        database=db_credentials[3]\n",
    "    )\n",
    "    sql_file = open(sql_dir + 'Script-19.sql')\n",
    "    sql_query = sql_file.read()\n",
    "    auctions = pd.read_sql(sql_query,db_connections)\n",
    "\n",
    "    # close the connection\n",
    "    db_connections.close()  \n",
    "except Exception as e:\n",
    "    db_connections.close()\n",
    "    print(str(e))"
   ]
  },
  {
   "cell_type": "code",
   "execution_count": 29,
   "metadata": {},
   "outputs": [],
   "source": [
    "# Clean auctions data\n",
    "auctions['auction_number'] = auctions['auction_number'].astype(str)\n",
    "auctions['auction_number'] = auctions['auction_number'].astype(str).replace(r'\\.0', '', regex=True)\n",
    "auctions['invoice_number'] = auctions['invoice_number'].astype(str)\n",
    "auctions['invoice_number'] = auctions['invoice_number'].astype(str).replace(r'\\.0', '', regex=True)"
   ]
  },
  {
   "cell_type": "code",
   "execution_count": 13,
   "metadata": {},
   "outputs": [],
   "source": [
    "#Beliani_invoice = Beliani_de[Beliani_de['Text'].str.contains('credit', na=False)]"
   ]
  },
  {
   "cell_type": "code",
   "execution_count": 30,
   "metadata": {},
   "outputs": [],
   "source": [
    "Beliani_de_auctions = Beliani_de[Beliani_de['Text'].str.contains('auction', na=False)]\n",
    "Beliani_de_tickets = Beliani_de[Beliani_de['Text'].str.contains('ticket', na=False)]"
   ]
  },
  {
   "cell_type": "code",
   "execution_count": 34,
   "metadata": {},
   "outputs": [
    {
     "name": "stderr",
     "output_type": "stream",
     "text": [
      "C:\\Users\\User\\AppData\\Local\\Temp\\ipykernel_14072\\600884060.py:3: SettingWithCopyWarning: \n",
      "A value is trying to be set on a copy of a slice from a DataFrame.\n",
      "Try using .loc[row_indexer,col_indexer] = value instead\n",
      "\n",
      "See the caveats in the documentation: https://pandas.pydata.org/pandas-docs/stable/user_guide/indexing.html#returning-a-view-versus-a-copy\n",
      "  in_books_22_split['ticket_number'] = Beliani_de_tickets['Text'].str.extract(r'(\\d+)')\n"
     ]
    }
   ],
   "source": [
    "# to filter out ticket numbers with space\n",
    "in_books_22_split = Beliani_de_tickets\n",
    "in_books_22_split['ticket_number'] = Beliani_de_tickets['Text'].str.extract(r'(\\d+)')\n",
    "in_books_22_split = in_books_22_split.dropna(subset=[\"ticket_number\"]) "
   ]
  },
  {
   "cell_type": "code",
   "execution_count": 36,
   "metadata": {},
   "outputs": [
    {
     "name": "stderr",
     "output_type": "stream",
     "text": [
      "C:\\Users\\User\\AppData\\Local\\Temp\\ipykernel_14072\\4052672927.py:3: SettingWithCopyWarning: \n",
      "A value is trying to be set on a copy of a slice from a DataFrame.\n",
      "Try using .loc[row_indexer,col_indexer] = value instead\n",
      "\n",
      "See the caveats in the documentation: https://pandas.pydata.org/pandas-docs/stable/user_guide/indexing.html#returning-a-view-versus-a-copy\n",
      "  in_books_22_comb['ticket_number'] = Beliani_de_tickets['Text'].str.extract(r'ticket(\\d+)')\n"
     ]
    }
   ],
   "source": [
    "# to filter out ticket numbers without space\n",
    "in_books_22_comb = Beliani_de_tickets\n",
    "in_books_22_comb['ticket_number'] = Beliani_de_tickets['Text'].str.extract(r'ticket(\\d+)')\n",
    "in_books_22_comb = in_books_22_comb.dropna(subset=[\"ticket_number\"]) "
   ]
  },
  {
   "cell_type": "code",
   "execution_count": 66,
   "metadata": {},
   "outputs": [],
   "source": [
    "# all tickets numbers that need auction number to be added\n",
    "all_ticket = pd.concat([in_books_22_split, in_books_22_comb])"
   ]
  },
  {
   "cell_type": "code",
   "execution_count": 52,
   "metadata": {},
   "outputs": [
    {
     "name": "stderr",
     "output_type": "stream",
     "text": [
      "C:\\Users\\User\\AppData\\Local\\Temp\\ipykernel_14072\\3126770460.py:3: SettingWithCopyWarning: \n",
      "A value is trying to be set on a copy of a slice from a DataFrame\n",
      "\n",
      "See the caveats in the documentation: https://pandas.pydata.org/pandas-docs/stable/user_guide/indexing.html#returning-a-view-versus-a-copy\n",
      "  invoices.rename(columns={'ticket_number':'invoice_number'},inplace=True)\n"
     ]
    }
   ],
   "source": [
    "tickets = all_ticket[all_ticket['ticket_number'].str.len() == 6]\n",
    "invoices = all_ticket[all_ticket['ticket_number'].str.len() > 6]\n",
    "invoices.rename(columns={'ticket_number':'invoice_number'},inplace=True)\n"
   ]
  },
  {
   "cell_type": "code",
   "execution_count": 55,
   "metadata": {},
   "outputs": [
    {
     "name": "stderr",
     "output_type": "stream",
     "text": [
      "C:\\Users\\User\\AppData\\Local\\Temp\\ipykernel_14072\\31640403.py:1: SettingWithCopyWarning: \n",
      "A value is trying to be set on a copy of a slice from a DataFrame.\n",
      "Try using .loc[row_indexer,col_indexer] = value instead\n",
      "\n",
      "See the caveats in the documentation: https://pandas.pydata.org/pandas-docs/stable/user_guide/indexing.html#returning-a-view-versus-a-copy\n",
      "  invoices['invoice_number'] = invoices['invoice_number'].astype(str)\n",
      "C:\\Users\\User\\AppData\\Local\\Temp\\ipykernel_14072\\31640403.py:2: SettingWithCopyWarning: \n",
      "A value is trying to be set on a copy of a slice from a DataFrame.\n",
      "Try using .loc[row_indexer,col_indexer] = value instead\n",
      "\n",
      "See the caveats in the documentation: https://pandas.pydata.org/pandas-docs/stable/user_guide/indexing.html#returning-a-view-versus-a-copy\n",
      "  invoices['invoice_number'] = invoices['invoice_number'].astype(str).replace(r'\\.0', '', regex=True)\n"
     ]
    }
   ],
   "source": [
    "invoices['invoice_number'] = invoices['invoice_number'].astype(str)\n",
    "invoices['invoice_number'] = invoices['invoice_number'].astype(str).replace(r'\\.0', '', regex=True)"
   ]
  },
  {
   "cell_type": "code",
   "execution_count": 56,
   "metadata": {},
   "outputs": [],
   "source": [
    "invoices_auctions = pd.merge(invoices, auctions, on='invoice_number', how='left')"
   ]
  },
  {
   "cell_type": "code",
   "execution_count": 67,
   "metadata": {},
   "outputs": [],
   "source": [
    "invoices_auctions['ticket_number'] = invoices_auctions['Text'].str.extract(r'ticket (\\d+)')\n"
   ]
  },
  {
   "cell_type": "code",
   "execution_count": 70,
   "metadata": {},
   "outputs": [
    {
     "name": "stderr",
     "output_type": "stream",
     "text": [
      "C:\\Users\\User\\AppData\\Local\\Temp\\ipykernel_14072\\1176604031.py:15: UserWarning: pandas only supports SQLAlchemy connectable (engine/connection) or database string URI or sqlite3 DBAPI2 connection. Other DBAPI2 objects are not tested. Please consider using SQLAlchemy.\n",
      "  all_tickets_sql = pd.read_sql(tickets_sql_query,db_connections)\n"
     ]
    }
   ],
   "source": [
    "# Run MySQL query to fetch tickets.\n",
    "# Putty must be running while running the script\n",
    "with open(db_credentials_dir + 'db_credentials.txt', 'r') as f:\n",
    "    db_credentials = f.read().splitlines()\n",
    "\n",
    "try:\n",
    "    db_connections = connection.connect(\n",
    "        host=db_credentials[0],\n",
    "        user=db_credentials[1],\n",
    "        password=db_credentials[2],\n",
    "        database=db_credentials[3]\n",
    "    )\n",
    "    tickets_sql = open(file_dir + 'tickets_sql.sql')\n",
    "    tickets_sql_query = tickets_sql.read()\n",
    "    all_tickets_sql = pd.read_sql(tickets_sql_query,db_connections)\n",
    "\n",
    "    # close the connection\n",
    "    db_connections.close()  \n",
    "except Exception as e:\n",
    "    db_connections.close()\n",
    "    print(str(e))"
   ]
  },
  {
   "cell_type": "code",
   "execution_count": 73,
   "metadata": {},
   "outputs": [
    {
     "name": "stderr",
     "output_type": "stream",
     "text": [
      "C:\\Users\\User\\AppData\\Local\\Temp\\ipykernel_14072\\2330440586.py:1: SettingWithCopyWarning: \n",
      "A value is trying to be set on a copy of a slice from a DataFrame.\n",
      "Try using .loc[row_indexer,col_indexer] = value instead\n",
      "\n",
      "See the caveats in the documentation: https://pandas.pydata.org/pandas-docs/stable/user_guide/indexing.html#returning-a-view-versus-a-copy\n",
      "  tickets['ticket_number'] = tickets['ticket_number'].astype(str)\n",
      "C:\\Users\\User\\AppData\\Local\\Temp\\ipykernel_14072\\2330440586.py:2: SettingWithCopyWarning: \n",
      "A value is trying to be set on a copy of a slice from a DataFrame.\n",
      "Try using .loc[row_indexer,col_indexer] = value instead\n",
      "\n",
      "See the caveats in the documentation: https://pandas.pydata.org/pandas-docs/stable/user_guide/indexing.html#returning-a-view-versus-a-copy\n",
      "  tickets['ticket_number'] = tickets['ticket_number'].astype(str).replace(r'\\.0', '', regex=True)\n"
     ]
    }
   ],
   "source": [
    "tickets['ticket_number'] = tickets['ticket_number'].astype(str)\n",
    "tickets['ticket_number'] = tickets['ticket_number'].astype(str).replace(r'\\.0', '', regex=True)\n",
    "all_tickets_sql['ticket_number'] = all_tickets_sql['ticket_number'].astype(str)\n",
    "all_tickets_sql['ticket_number'] = all_tickets_sql['ticket_number'].astype(str).replace(r'\\.0', '', regex=True)"
   ]
  },
  {
   "cell_type": "code",
   "execution_count": 78,
   "metadata": {},
   "outputs": [],
   "source": [
    "tickets_auctions = pd.merge(tickets, all_tickets_sql, on='ticket_number', how='left')"
   ]
  },
  {
   "cell_type": "code",
   "execution_count": 83,
   "metadata": {},
   "outputs": [],
   "source": [
    "not_found = Beliani_de_tickets[~Beliani_de_tickets['Text'].isin(all_ticket['Text'])]"
   ]
  },
  {
   "cell_type": "code",
   "execution_count": 90,
   "metadata": {},
   "outputs": [],
   "source": [
    "ticket_union = pd.concat([tickets_auctions, invoices_auctions, not_found])"
   ]
  },
  {
   "cell_type": "code",
   "execution_count": 8,
   "metadata": {},
   "outputs": [],
   "source": [
    "Beliani_de_auctions_all = Beliani_de[Beliani_de['Text'].str.contains('auction', na=False) | Beliani_de['Text'].str.contains('auftrag', na=False) ]\n"
   ]
  },
  {
   "cell_type": "code",
   "execution_count": 94,
   "metadata": {},
   "outputs": [],
   "source": [
    "ticket_union['type_split'] = 'ticket'"
   ]
  },
  {
   "cell_type": "code",
   "execution_count": 97,
   "metadata": {},
   "outputs": [
    {
     "name": "stderr",
     "output_type": "stream",
     "text": [
      "C:\\Users\\User\\AppData\\Local\\Temp\\ipykernel_14072\\1105257916.py:1: SettingWithCopyWarning: \n",
      "A value is trying to be set on a copy of a slice from a DataFrame.\n",
      "Try using .loc[row_indexer,col_indexer] = value instead\n",
      "\n",
      "See the caveats in the documentation: https://pandas.pydata.org/pandas-docs/stable/user_guide/indexing.html#returning-a-view-versus-a-copy\n",
      "  Beliani_de_auctions_all['auction_number'] = Beliani_de_auctions_all['Text'].str.extract(r'(?:auction|auftrag) (\\d+)')\n"
     ]
    }
   ],
   "source": [
    "Beliani_de_auctions_all['auction_number'] = Beliani_de_auctions_all['Text'].str.extract(r'(?:auction|auftrag) (\\d+)')\n"
   ]
  },
  {
   "cell_type": "code",
   "execution_count": 101,
   "metadata": {},
   "outputs": [
    {
     "name": "stderr",
     "output_type": "stream",
     "text": [
      "C:\\Users\\User\\AppData\\Local\\Temp\\ipykernel_14072\\2369301859.py:1: SettingWithCopyWarning: \n",
      "A value is trying to be set on a copy of a slice from a DataFrame.\n",
      "Try using .loc[row_indexer,col_indexer] = value instead\n",
      "\n",
      "See the caveats in the documentation: https://pandas.pydata.org/pandas-docs/stable/user_guide/indexing.html#returning-a-view-versus-a-copy\n",
      "  Beliani_de_auctions_all['type_split'] = 'auction'\n"
     ]
    }
   ],
   "source": [
    "Beliani_de_auctions_all['type_split'] = 'auction'"
   ]
  },
  {
   "cell_type": "code",
   "execution_count": 103,
   "metadata": {},
   "outputs": [],
   "source": [
    "all_books_22 = pd.concat([Beliani_de_auctions_all, ticket_union])"
   ]
  },
  {
   "cell_type": "code",
   "execution_count": 109,
   "metadata": {},
   "outputs": [],
   "source": [
    "all_books_22.rename(columns={'Amount_Netto(local)2':'Amount_Netto(local)'},inplace=True)"
   ]
  },
  {
   "cell_type": "code",
   "execution_count": 111,
   "metadata": {},
   "outputs": [],
   "source": [
    "all_books_22['auction_number'] = all_books_22['auction_number'].astype(str)\n",
    "all_books_22['auction_number'] = all_books_22['auction_number'].astype(str).replace(r'\\.0', '', regex=True)\n",
    "all_books_22['auction_number'] = all_books_22['auction_number'].str.strip()"
   ]
  },
  {
   "cell_type": "code",
   "execution_count": 112,
   "metadata": {},
   "outputs": [
    {
     "name": "stderr",
     "output_type": "stream",
     "text": [
      "C:\\Users\\User\\AppData\\Local\\Temp\\ipykernel_14072\\3746988900.py:1: DtypeWarning: Columns (2,14) have mixed types. Specify dtype option on import or set low_memory=False.\n",
      "  FACT_all_transactions = pd.read_csv(file_dir + 'FACT_all_transactions.csv')\n"
     ]
    }
   ],
   "source": [
    "FACT_all_transactions = pd.read_csv(file_dir + 'FACT_all_transactions.csv')"
   ]
  },
  {
   "cell_type": "code",
   "execution_count": 113,
   "metadata": {},
   "outputs": [],
   "source": [
    "FACT_all_transactions[['auction_number', 'txnid']] = FACT_all_transactions['Main auction'].str.split('_', expand=True)"
   ]
  },
  {
   "cell_type": "code",
   "execution_count": 114,
   "metadata": {},
   "outputs": [],
   "source": [
    "FACT_all_transactions['Transaction_Date'] = pd.to_datetime(FACT_all_transactions['Transaction_Date'])"
   ]
  },
  {
   "cell_type": "code",
   "execution_count": 115,
   "metadata": {},
   "outputs": [],
   "source": [
    "FACT_all_transactions['Selling_account'] = FACT_all_transactions['Selling_account'].astype(str)\n",
    "FACT_all_transactions['Selling_account'] = FACT_all_transactions['Selling_account'].astype(str).replace(r'\\.0', '', regex=True)"
   ]
  },
  {
   "cell_type": "code",
   "execution_count": 116,
   "metadata": {},
   "outputs": [],
   "source": [
    "FACT_all_transactions['auction_number'] = FACT_all_transactions['auction_number'].astype(str)\n",
    "FACT_all_transactions['auction_number'] = FACT_all_transactions['auction_number'].astype(str).replace(r'\\.0', '', regex=True)\n",
    "FACT_all_transactions['auction_number'] = FACT_all_transactions['auction_number'].str.strip()"
   ]
  },
  {
   "cell_type": "code",
   "execution_count": 117,
   "metadata": {},
   "outputs": [],
   "source": [
    "FACT_all_transactions_2022= FACT_all_transactions[(FACT_all_transactions['Transaction_Date'] >= pd.Timestamp('2022-01-01')) & (FACT_all_transactions['Transaction_Date'] < pd.Timestamp('2023-01-01')) ]"
   ]
  },
  {
   "cell_type": "code",
   "execution_count": 119,
   "metadata": {},
   "outputs": [],
   "source": [
    "DIM_all_auction = pd.read_csv(file_dir + 'DIM_all_auction.csv')"
   ]
  },
  {
   "cell_type": "code",
   "execution_count": 120,
   "metadata": {},
   "outputs": [],
   "source": [
    "DIM_all_auction[['auction_number', 'txnid']] = DIM_all_auction['MAU_Main auction'].str.split('_', expand=True)\n"
   ]
  },
  {
   "cell_type": "code",
   "execution_count": 121,
   "metadata": {},
   "outputs": [],
   "source": [
    "DIM_Company = DIM_all_auction[['auction_number', 'Company', 'Seller']]"
   ]
  },
  {
   "cell_type": "code",
   "execution_count": 122,
   "metadata": {},
   "outputs": [
    {
     "name": "stderr",
     "output_type": "stream",
     "text": [
      "C:\\Users\\User\\AppData\\Local\\Temp\\ipykernel_14072\\1269495965.py:1: SettingWithCopyWarning: \n",
      "A value is trying to be set on a copy of a slice from a DataFrame\n",
      "\n",
      "See the caveats in the documentation: https://pandas.pydata.org/pandas-docs/stable/user_guide/indexing.html#returning-a-view-versus-a-copy\n",
      "  DIM_Company.drop_duplicates(subset='auction_number', inplace=True)\n"
     ]
    }
   ],
   "source": [
    "DIM_Company.drop_duplicates(subset='auction_number', inplace=True)"
   ]
  },
  {
   "cell_type": "code",
   "execution_count": 123,
   "metadata": {},
   "outputs": [
    {
     "name": "stderr",
     "output_type": "stream",
     "text": [
      "C:\\Users\\User\\AppData\\Local\\Temp\\ipykernel_14072\\3941791682.py:1: SettingWithCopyWarning: \n",
      "A value is trying to be set on a copy of a slice from a DataFrame.\n",
      "Try using .loc[row_indexer,col_indexer] = value instead\n",
      "\n",
      "See the caveats in the documentation: https://pandas.pydata.org/pandas-docs/stable/user_guide/indexing.html#returning-a-view-versus-a-copy\n",
      "  DIM_Company['auction_number'] = DIM_Company['auction_number'].astype(str)\n",
      "C:\\Users\\User\\AppData\\Local\\Temp\\ipykernel_14072\\3941791682.py:2: SettingWithCopyWarning: \n",
      "A value is trying to be set on a copy of a slice from a DataFrame.\n",
      "Try using .loc[row_indexer,col_indexer] = value instead\n",
      "\n",
      "See the caveats in the documentation: https://pandas.pydata.org/pandas-docs/stable/user_guide/indexing.html#returning-a-view-versus-a-copy\n",
      "  DIM_Company['auction_number'] = DIM_Company['auction_number'].astype(str).replace(r'\\.0', '', regex=True)\n",
      "C:\\Users\\User\\AppData\\Local\\Temp\\ipykernel_14072\\3941791682.py:3: SettingWithCopyWarning: \n",
      "A value is trying to be set on a copy of a slice from a DataFrame.\n",
      "Try using .loc[row_indexer,col_indexer] = value instead\n",
      "\n",
      "See the caveats in the documentation: https://pandas.pydata.org/pandas-docs/stable/user_guide/indexing.html#returning-a-view-versus-a-copy\n",
      "  DIM_Company['auction_number'] = DIM_Company['auction_number'].str.strip()\n",
      "C:\\Users\\User\\AppData\\Local\\Temp\\ipykernel_14072\\3941791682.py:5: SettingWithCopyWarning: \n",
      "A value is trying to be set on a copy of a slice from a DataFrame.\n",
      "Try using .loc[row_indexer,col_indexer] = value instead\n",
      "\n",
      "See the caveats in the documentation: https://pandas.pydata.org/pandas-docs/stable/user_guide/indexing.html#returning-a-view-versus-a-copy\n",
      "  FACT_all_transactions_2022['auction_number'] = FACT_all_transactions_2022['auction_number'].astype(str)\n",
      "C:\\Users\\User\\AppData\\Local\\Temp\\ipykernel_14072\\3941791682.py:6: SettingWithCopyWarning: \n",
      "A value is trying to be set on a copy of a slice from a DataFrame.\n",
      "Try using .loc[row_indexer,col_indexer] = value instead\n",
      "\n",
      "See the caveats in the documentation: https://pandas.pydata.org/pandas-docs/stable/user_guide/indexing.html#returning-a-view-versus-a-copy\n",
      "  FACT_all_transactions_2022['auction_number'] = FACT_all_transactions_2022['auction_number'].astype(str).replace(r'\\.0', '', regex=True)\n",
      "C:\\Users\\User\\AppData\\Local\\Temp\\ipykernel_14072\\3941791682.py:7: SettingWithCopyWarning: \n",
      "A value is trying to be set on a copy of a slice from a DataFrame.\n",
      "Try using .loc[row_indexer,col_indexer] = value instead\n",
      "\n",
      "See the caveats in the documentation: https://pandas.pydata.org/pandas-docs/stable/user_guide/indexing.html#returning-a-view-versus-a-copy\n",
      "  FACT_all_transactions_2022['auction_number'] = FACT_all_transactions_2022['auction_number'].str.strip()\n"
     ]
    }
   ],
   "source": [
    "DIM_Company['auction_number'] = DIM_Company['auction_number'].astype(str)\n",
    "DIM_Company['auction_number'] = DIM_Company['auction_number'].astype(str).replace(r'\\.0', '', regex=True)\n",
    "DIM_Company['auction_number'] = DIM_Company['auction_number'].str.strip()\n",
    "\n",
    "FACT_all_transactions_2022['auction_number'] = FACT_all_transactions_2022['auction_number'].astype(str)\n",
    "FACT_all_transactions_2022['auction_number'] = FACT_all_transactions_2022['auction_number'].astype(str).replace(r'\\.0', '', regex=True)\n",
    "FACT_all_transactions_2022['auction_number'] = FACT_all_transactions_2022['auction_number'].str.strip()\n"
   ]
  },
  {
   "cell_type": "code",
   "execution_count": 124,
   "metadata": {},
   "outputs": [],
   "source": [
    "transactions_2022_company = pd.merge(FACT_all_transactions_2022, DIM_Company, on='auction_number', how='left')"
   ]
  },
  {
   "cell_type": "code",
   "execution_count": 125,
   "metadata": {},
   "outputs": [],
   "source": [
    "transactions_2022_company['auction_number'] = transactions_2022_company['auction_number'].astype(str)\n",
    "transactions_2022_company['auction_number'] = transactions_2022_company['auction_number'].astype(str).replace(r'\\.0', '', regex=True)\n",
    "transactions_2022_company['auction_number'] = transactions_2022_company['auction_number'].str.strip()"
   ]
  },
  {
   "cell_type": "code",
   "execution_count": 126,
   "metadata": {},
   "outputs": [],
   "source": [
    "in_bi22 = transactions_2022_company[~transactions_2022_company['auction_number'].isin(all_books_22['auction_number'])]"
   ]
  },
  {
   "cell_type": "code",
   "execution_count": 128,
   "metadata": {},
   "outputs": [],
   "source": [
    "in_bi22.to_csv(file_dir + 'in_bi22_fixed.csv', index=False, encoding='utf-8')"
   ]
  }
 ],
 "metadata": {
  "kernelspec": {
   "display_name": "Python 3",
   "language": "python",
   "name": "python3"
  },
  "language_info": {
   "codemirror_mode": {
    "name": "ipython",
    "version": 3
   },
   "file_extension": ".py",
   "mimetype": "text/x-python",
   "name": "python",
   "nbconvert_exporter": "python",
   "pygments_lexer": "ipython3",
   "version": "3.10.11"
  },
  "orig_nbformat": 4
 },
 "nbformat": 4,
 "nbformat_minor": 2
}
