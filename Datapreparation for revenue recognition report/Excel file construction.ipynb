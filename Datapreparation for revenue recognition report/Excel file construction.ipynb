{
 "cells": [
  {
   "cell_type": "code",
   "execution_count": 1,
   "metadata": {},
   "outputs": [],
   "source": [
    "# To create an excel file for Controlling you need to fetch DIM_all_auction & FACT_all_transactions tables from 063_Revenue recognition report with Dax Studio"
   ]
  },
  {
   "cell_type": "code",
   "execution_count": 2,
   "metadata": {},
   "outputs": [],
   "source": [
    "import pandas as pd\n",
    "from openpyxl import load_workbook"
   ]
  },
  {
   "cell_type": "code",
   "execution_count": 3,
   "metadata": {},
   "outputs": [],
   "source": [
    "files_dir = 'G:/Reports/63_issue_158946_payments/Refreshed on 07_04_2023/16_05_23_full2022 to audit/30_05/new_logic/all/dax_studio/'\n",
    "save_dir = 'G:/Reports/63_issue_158946_payments/Excel/'"
   ]
  },
  {
   "cell_type": "code",
   "execution_count": 4,
   "metadata": {},
   "outputs": [],
   "source": [
    "DIM_all_auction = pd.read_csv(files_dir + 'DIM_all_auction.csv')"
   ]
  },
  {
   "cell_type": "code",
   "execution_count": 5,
   "metadata": {},
   "outputs": [
    {
     "name": "stderr",
     "output_type": "stream",
     "text": [
      "C:\\Users\\rdpadmin\\AppData\\Local\\Temp\\ipykernel_13120\\256377864.py:1: DtypeWarning: Columns (2,14) have mixed types. Specify dtype option on import or set low_memory=False.\n",
      "  FACT_all_transactions = pd.read_csv(files_dir + 'FACT_all_transactions.csv')\n"
     ]
    }
   ],
   "source": [
    "FACT_all_transactions = pd.read_csv(files_dir + 'FACT_all_transactions.csv')"
   ]
  },
  {
   "cell_type": "code",
   "execution_count": 6,
   "metadata": {},
   "outputs": [],
   "source": [
    "DIM_all_auction = DIM_all_auction[['Main auction', 'Company', 'Open Amount (CHF)22', 'Orders_not_sent']]\n",
    "DIM_all_auction = DIM_all_auction.rename(columns={'Open Amount (CHF)22': 'open_amount(CHF)'})"
   ]
  },
  {
   "cell_type": "code",
   "execution_count": 7,
   "metadata": {},
   "outputs": [],
   "source": [
    "DIM_all_auction.drop_duplicates(subset='Main auction', inplace=True)"
   ]
  },
  {
   "cell_type": "code",
   "execution_count": 8,
   "metadata": {},
   "outputs": [],
   "source": [
    "FACT_all_transactions = FACT_all_transactions[['Main auction', 'Payment_id/Ticket_id', 'Account', 'Selling_account', 'Refund?[0-no,1-del_auf,2-ticket]', 'Negative amount?', 'Create_date', 'Transaction_Date', 'Amount_Brutto(local)', 'Amount_Netto(local)', 'Vat_percent', 'Amount_netto(EUR)', 'Sum_Amount_Paid(CHF)22', 'Amount_netto(CHF)_web', 'Shipped_date', 'First_Payment']]\n",
    "FACT_all_transactions = FACT_all_transactions.rename(columns={'Sum_Amount_Paid(CHF)22': 'Amount_netto(CHF)'})"
   ]
  },
  {
   "cell_type": "code",
   "execution_count": 9,
   "metadata": {},
   "outputs": [],
   "source": [
    "merged = pd.merge(FACT_all_transactions, DIM_all_auction, on='Main auction', how='left')"
   ]
  },
  {
   "cell_type": "code",
   "execution_count": 10,
   "metadata": {},
   "outputs": [],
   "source": [
    "# Clean data\n",
    "merged['Selling_account'] = merged['Selling_account'] .astype(str)\n",
    "merged['Selling_account'] = merged['Selling_account'] .astype(str).replace(r'\\.0', '', regex=True)\n",
    "merged['Shipped_date'] = pd.to_datetime(merged['Shipped_date'])\n",
    "merged['First_Payment'] = pd.to_datetime(merged['First_Payment'])\n",
    "merged['Create_date'] = pd.to_datetime(merged['Create_date'])\n",
    "merged['Transaction_Date'] = pd.to_datetime(merged['Transaction_Date'])"
   ]
  },
  {
   "cell_type": "code",
   "execution_count": 11,
   "metadata": {},
   "outputs": [],
   "source": [
    "# To create columns with year only\n",
    "merged['First_Payment_Year'] = merged['First_Payment'].dt.year\n",
    "merged['Create_date_Year'] = merged['Create_date'].dt.year\n",
    "merged['Transaction_Date_Year'] = merged['Transaction_Date'].dt.year\n",
    "merged['Shipped_date_Year'] = merged['Shipped_date'].dt.year\n"
   ]
  },
  {
   "cell_type": "code",
   "execution_count": 12,
   "metadata": {},
   "outputs": [],
   "source": [
    "unique_companies = merged['Company'].unique()"
   ]
  },
  {
   "cell_type": "code",
   "execution_count": 35,
   "metadata": {},
   "outputs": [],
   "source": [
    "\n",
    "output_file = save_dir + 'payments_2019_2023_test.xlsx'\n",
    "writer = pd.ExcelWriter(output_file, engine='xlsxwriter')\n",
    "\n",
    "for company in unique_companies:\n",
    "    # Create a dataframe name by replacing spaces with underscores\n",
    "    dataframe_name = company.replace(' ', '_')\n",
    "    \n",
    "    # Filter the merged dataframe based on the company name\n",
    "    filtered_df = merged[merged['Company'].str.contains(company, na=False)].copy()\n",
    "    \n",
    "    # Check if the company is \"Beliani_DE\"\n",
    "    if company == \"Beliani DE\":\n",
    "        # Split the dataframe based on the condition\n",
    "        Beliani_DE23 = filtered_df[filtered_df['Shipped_date'] >= pd.Timestamp('2023-01-01')]\n",
    "        Beliani_DE22 = filtered_df[filtered_df['Shipped_date'] < pd.Timestamp('2023-01-01')]\n",
    "        \n",
    "        # Write Beliani_DE23 to a sheet named 'Beliani_DE23' in the Excel file\n",
    "        Beliani_DE23.to_excel(writer, sheet_name='Beliani_DE23', index=False)\n",
    "        \n",
    "        # Write Beliani_DE22 to a sheet named 'Beliani_DE22' in the Excel file\n",
    "        Beliani_DE22.to_excel(writer, sheet_name='Beliani_DE22', index=False)\n",
    "    else:\n",
    "        # Write the dataframe to a sheet named after the company in the Excel file\n",
    "        filtered_df.to_excel(writer, sheet_name=dataframe_name, index=False)\n",
    "\n",
    "writer.close()\n"
   ]
  }
 ],
 "metadata": {
  "kernelspec": {
   "display_name": "Python 3",
   "language": "python",
   "name": "python3"
  },
  "language_info": {
   "codemirror_mode": {
    "name": "ipython",
    "version": 3
   },
   "file_extension": ".py",
   "mimetype": "text/x-python",
   "name": "python",
   "nbconvert_exporter": "python",
   "pygments_lexer": "ipython3",
   "version": "3.11.1"
  },
  "orig_nbformat": 4
 },
 "nbformat": 4,
 "nbformat_minor": 2
}
